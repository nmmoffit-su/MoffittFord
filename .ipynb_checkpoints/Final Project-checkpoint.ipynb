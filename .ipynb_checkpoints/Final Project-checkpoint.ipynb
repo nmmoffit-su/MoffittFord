{
 "cells": [
  {
   "cell_type": "code",
   "execution_count": 5,
   "metadata": {},
   "outputs": [
    {
     "name": "stdout",
     "output_type": "stream",
     "text": [
      "\u001b[33mYou are using pip version 18.0, however version 18.1 is available.\r\n",
      "You should consider upgrading via the 'pip install --upgrade pip' command.\u001b[0m\r\n"
     ]
    }
   ],
   "source": [
    "!pip3 install -q requests"
   ]
  },
  {
   "cell_type": "code",
   "execution_count": 6,
   "metadata": {},
   "outputs": [
    {
     "name": "stderr",
     "output_type": "stream",
     "text": [
      "/Library/Frameworks/Python.framework/Versions/3.6/lib/python3.6/site-packages/plotly/graph_objs/_deprecations.py:558: DeprecationWarning:\n",
      "\n",
      "plotly.graph_objs.YAxis is deprecated.\n",
      "Please replace it with one of the following more specific types\n",
      "  - plotly.graph_objs.layout.YAxis\n",
      "  - plotly.graph_objs.layout.scene.YAxis\n",
      "\n",
      "\n",
      "/Library/Frameworks/Python.framework/Versions/3.6/lib/python3.6/site-packages/plotly/graph_objs/_deprecations.py:531: DeprecationWarning:\n",
      "\n",
      "plotly.graph_objs.XAxis is deprecated.\n",
      "Please replace it with one of the following more specific types\n",
      "  - plotly.graph_objs.layout.XAxis\n",
      "  - plotly.graph_objs.layout.scene.XAxis\n",
      "\n",
      "\n"
     ]
    }
   ],
   "source": [
    "import requests\n",
    "import json\n",
    "%matplotlib inline \n",
    "import matplotlib\n",
    "import matplotlib.pyplot as plt\n",
    "import plotly\n",
    "import plotly.plotly as py      \n",
    "import cufflinks as cf\n",
    "import pandas as pd\n",
    "import folium\n",
    "import warnings"
   ]
  },
  {
   "cell_type": "code",
   "execution_count": 112,
   "metadata": {},
   "outputs": [],
   "source": []
  },
  {
   "cell_type": "markdown",
   "metadata": {},
   "source": [
    "ORANGE DIRECTIONS\n",
    "\n",
    "Nick Moffitt\n",
    "\n",
    "Peter Ford\n",
    "\n",
    "Group: 13"
   ]
  },
  {
   "cell_type": "code",
   "execution_count": null,
   "metadata": {},
   "outputs": [],
   "source": [
    "def indexError():    \n",
    "    print(\"Sorry, we couldn't find that building\")\n",
    "    building= input('What building is your class in? e.g.(Hinds Hall) ')\n",
    "    url = 'https://nominatim.openstreetmap.org/search'\n",
    "    options = { 'q' : 'Whitman' + ' syracuse', 'format' : 'json'}\n",
    "    response = requests.get(url, params = options)"
   ]
  },
  {
   "cell_type": "code",
   "execution_count": 19,
   "metadata": {},
   "outputs": [
    {
     "name": "stdout",
     "output_type": "stream",
     "text": [
      "What is the name of your class? e.g.(IST 195) IST 195\n",
      "What building is your class in? e.g.(Hinds Hall) Whitman\n",
      "Sorry, we couldn't find that building\n",
      "What building is your class in? e.g.(Hinds Hall) Whitman\n",
      "Sorry, we couldn't find that building\n",
      "What building is your class in? e.g.(Hinds Hall) Hinds Hall\n",
      "What is the name of your class? e.g.(IST 195) IST 195\n",
      "What building is your class in? e.g.(Hinds Hall) Hinds Hall\n",
      "What is the name of your class? e.g.(IST 195) IST 233\n",
      "What building is your class in? e.g.(Hinds Hall) Hall of Languages\n",
      "What is the name of your class? e.g.(IST 195) done\n",
      "IST 195 Hinds Hall\n",
      "IST 233 Hall of Languages\n",
      "What class are you going to? IST 195\n",
      "What is your current location (e.g) 123 Main St. 1029 Madison St\n",
      "It will take you 00:14:59 to travel to your destination.\n",
      "1. Turn right onto Comstock Ave. \n",
      "2. Turn right onto University Pl (Gate access required). \n",
      "3. Turn left onto Smith Dr. \n",
      "4. SMITH DR. \n",
      "\n"
     ]
    },
    {
     "data": {
      "text/html": [
       "<div style=\"width:100%;\"><div style=\"position:relative;width:100%;height:0;padding-bottom:60%;\"><iframe src=\"data:text/html;charset=utf-8;base64,PCFET0NUWVBFIGh0bWw+CjxoZWFkPiAgICAKICAgIDxtZXRhIGh0dHAtZXF1aXY9ImNvbnRlbnQtdHlwZSIgY29udGVudD0idGV4dC9odG1sOyBjaGFyc2V0PVVURi04IiAvPgogICAgPHNjcmlwdD5MX1BSRUZFUl9DQU5WQVM9ZmFsc2U7IExfTk9fVE9VQ0g9ZmFsc2U7IExfRElTQUJMRV8zRD1mYWxzZTs8L3NjcmlwdD4KICAgIDxzY3JpcHQgc3JjPSJodHRwczovL2Nkbi5qc2RlbGl2ci5uZXQvbnBtL2xlYWZsZXRAMS4yLjAvZGlzdC9sZWFmbGV0LmpzIj48L3NjcmlwdD4KICAgIDxzY3JpcHQgc3JjPSJodHRwczovL2FqYXguZ29vZ2xlYXBpcy5jb20vYWpheC9saWJzL2pxdWVyeS8xLjExLjEvanF1ZXJ5Lm1pbi5qcyI+PC9zY3JpcHQ+CiAgICA8c2NyaXB0IHNyYz0iaHR0cHM6Ly9tYXhjZG4uYm9vdHN0cmFwY2RuLmNvbS9ib290c3RyYXAvMy4yLjAvanMvYm9vdHN0cmFwLm1pbi5qcyI+PC9zY3JpcHQ+CiAgICA8c2NyaXB0IHNyYz0iaHR0cHM6Ly9jZG5qcy5jbG91ZGZsYXJlLmNvbS9hamF4L2xpYnMvTGVhZmxldC5hd2Vzb21lLW1hcmtlcnMvMi4wLjIvbGVhZmxldC5hd2Vzb21lLW1hcmtlcnMuanMiPjwvc2NyaXB0PgogICAgPGxpbmsgcmVsPSJzdHlsZXNoZWV0IiBocmVmPSJodHRwczovL2Nkbi5qc2RlbGl2ci5uZXQvbnBtL2xlYWZsZXRAMS4yLjAvZGlzdC9sZWFmbGV0LmNzcyIvPgogICAgPGxpbmsgcmVsPSJzdHlsZXNoZWV0IiBocmVmPSJodHRwczovL21heGNkbi5ib290c3RyYXBjZG4uY29tL2Jvb3RzdHJhcC8zLjIuMC9jc3MvYm9vdHN0cmFwLm1pbi5jc3MiLz4KICAgIDxsaW5rIHJlbD0ic3R5bGVzaGVldCIgaHJlZj0iaHR0cHM6Ly9tYXhjZG4uYm9vdHN0cmFwY2RuLmNvbS9ib290c3RyYXAvMy4yLjAvY3NzL2Jvb3RzdHJhcC10aGVtZS5taW4uY3NzIi8+CiAgICA8bGluayByZWw9InN0eWxlc2hlZXQiIGhyZWY9Imh0dHBzOi8vbWF4Y2RuLmJvb3RzdHJhcGNkbi5jb20vZm9udC1hd2Vzb21lLzQuNi4zL2Nzcy9mb250LWF3ZXNvbWUubWluLmNzcyIvPgogICAgPGxpbmsgcmVsPSJzdHlsZXNoZWV0IiBocmVmPSJodHRwczovL2NkbmpzLmNsb3VkZmxhcmUuY29tL2FqYXgvbGlicy9MZWFmbGV0LmF3ZXNvbWUtbWFya2Vycy8yLjAuMi9sZWFmbGV0LmF3ZXNvbWUtbWFya2Vycy5jc3MiLz4KICAgIDxsaW5rIHJlbD0ic3R5bGVzaGVldCIgaHJlZj0iaHR0cHM6Ly9yYXdnaXQuY29tL3B5dGhvbi12aXN1YWxpemF0aW9uL2ZvbGl1bS9tYXN0ZXIvZm9saXVtL3RlbXBsYXRlcy9sZWFmbGV0LmF3ZXNvbWUucm90YXRlLmNzcyIvPgogICAgPHN0eWxlPmh0bWwsIGJvZHkge3dpZHRoOiAxMDAlO2hlaWdodDogMTAwJTttYXJnaW46IDA7cGFkZGluZzogMDt9PC9zdHlsZT4KICAgIDxzdHlsZT4jbWFwIHtwb3NpdGlvbjphYnNvbHV0ZTt0b3A6MDtib3R0b206MDtyaWdodDowO2xlZnQ6MDt9PC9zdHlsZT4KICAgIAogICAgPHN0eWxlPiNtYXBfOWU1NjIzYjM1ZWYxNDIwOWE4ZTk0NjQyMzE2MzQ2OTYgewogICAgICAgIHBvc2l0aW9uOiByZWxhdGl2ZTsKICAgICAgICB3aWR0aDogMTAwLjAlOwogICAgICAgIGhlaWdodDogMTAwLjAlOwogICAgICAgIGxlZnQ6IDAuMCU7CiAgICAgICAgdG9wOiAwLjAlOwogICAgICAgIH0KICAgIDwvc3R5bGU+CjwvaGVhZD4KPGJvZHk+ICAgIAogICAgCiAgICA8ZGl2IGNsYXNzPSJmb2xpdW0tbWFwIiBpZD0ibWFwXzllNTYyM2IzNWVmMTQyMDlhOGU5NDY0MjMxNjM0Njk2IiA+PC9kaXY+CjwvYm9keT4KPHNjcmlwdD4gICAgCiAgICAKICAgIAogICAgICAgIHZhciBib3VuZHMgPSBudWxsOwogICAgCgogICAgdmFyIG1hcF85ZTU2MjNiMzVlZjE0MjA5YThlOTQ2NDIzMTYzNDY5NiA9IEwubWFwKAogICAgICAgICdtYXBfOWU1NjIzYjM1ZWYxNDIwOWE4ZTk0NjQyMzE2MzQ2OTYnLCB7CiAgICAgICAgY2VudGVyOiBbNDMuMDM5MiwgLTc2LjEzNTFdLAogICAgICAgIHpvb206IDE1LAogICAgICAgIG1heEJvdW5kczogYm91bmRzLAogICAgICAgIGxheWVyczogW10sCiAgICAgICAgd29ybGRDb3B5SnVtcDogZmFsc2UsCiAgICAgICAgY3JzOiBMLkNSUy5FUFNHMzg1NywKICAgICAgICB6b29tQ29udHJvbDogdHJ1ZSwKICAgICAgICB9KTsKCiAgICAKICAgIAogICAgdmFyIHRpbGVfbGF5ZXJfZWZlODNhMDZiYjE3NDNhNGE4ODFmM2Y1NTUyNDU2OTMgPSBMLnRpbGVMYXllcigKICAgICAgICAnaHR0cHM6Ly97c30udGlsZS5vcGVuc3RyZWV0bWFwLm9yZy97en0ve3h9L3t5fS5wbmcnLAogICAgICAgIHsKICAgICAgICAiYXR0cmlidXRpb24iOiBudWxsLAogICAgICAgICJkZXRlY3RSZXRpbmEiOiBmYWxzZSwKICAgICAgICAibWF4TmF0aXZlWm9vbSI6IDE4LAogICAgICAgICJtYXhab29tIjogMTgsCiAgICAgICAgIm1pblpvb20iOiAwLAogICAgICAgICJub1dyYXAiOiBmYWxzZSwKICAgICAgICAic3ViZG9tYWlucyI6ICJhYmMiCn0pLmFkZFRvKG1hcF85ZTU2MjNiMzVlZjE0MjA5YThlOTQ2NDIzMTYzNDY5Nik7CiAgICAKICAgICAgICB2YXIgbWFya2VyX2I1Zjc5YzZlNjViYjQ2OWY4NzI0YTZhZDhmNTk3ZDAxID0gTC5tYXJrZXIoCiAgICAgICAgICAgIFs0My4wNDUzLCAtNzYuMTMxNDE2XSwKICAgICAgICAgICAgewogICAgICAgICAgICAgICAgaWNvbjogbmV3IEwuSWNvbi5EZWZhdWx0KCkKICAgICAgICAgICAgICAgIH0KICAgICAgICAgICAgKS5hZGRUbyhtYXBfOWU1NjIzYjM1ZWYxNDIwOWE4ZTk0NjQyMzE2MzQ2OTYpOwogICAgICAgIAogICAgCiAgICAgICAgdmFyIG1hcmtlcl81YWM5YmMzZTE4MTU0NmJkODdhZjRjMmNlNzUzMDVkZiA9IEwubWFya2VyKAogICAgICAgICAgICBbNDMuMDM4OTcsIC03Ni4xMzI5NF0sCiAgICAgICAgICAgIHsKICAgICAgICAgICAgICAgIGljb246IG5ldyBMLkljb24uRGVmYXVsdCgpCiAgICAgICAgICAgICAgICB9CiAgICAgICAgICAgICkuYWRkVG8obWFwXzllNTYyM2IzNWVmMTQyMDlhOGU5NDY0MjMxNjM0Njk2KTsKICAgICAgICAKICAgIAogICAgICAgICAgICAgICAgdmFyIHBvbHlfbGluZV9iN2FkZjQxNzE2ZDk0NWFlYTE3OTk2N2ZkNWVhZTg2MCA9IEwucG9seWxpbmUoCiAgICAgICAgICAgICAgICAgICAgW1s0My4wNDUzLCAtNzYuMTMxNDE2XSwgWzQzLjAzODk3LCAtNzYuMTMyOTRdXSwKICAgICAgICAgICAgICAgICAgICB7CiAgImJ1YmJsaW5nTW91c2VFdmVudHMiOiB0cnVlLAogICJjb2xvciI6ICJvcmFuZ2UiLAogICJkYXNoQXJyYXkiOiBudWxsLAogICJkYXNoT2Zmc2V0IjogbnVsbCwKICAiZmlsbCI6IGZhbHNlLAogICJmaWxsQ29sb3IiOiAib3JhbmdlIiwKICAiZmlsbE9wYWNpdHkiOiAwLjIsCiAgImZpbGxSdWxlIjogImV2ZW5vZGQiLAogICJsaW5lQ2FwIjogInJvdW5kIiwKICAibGluZUpvaW4iOiAicm91bmQiLAogICJub0NsaXAiOiBmYWxzZSwKICAib3BhY2l0eSI6IDEsCiAgInNtb290aEZhY3RvciI6IDEuMCwKICAic3Ryb2tlIjogdHJ1ZSwKICAid2VpZ2h0IjogMi41Cn0KICAgICAgICAgICAgICAgICAgICApCiAgICAgICAgICAgICAgICAgICAgLmFkZFRvKG1hcF85ZTU2MjNiMzVlZjE0MjA5YThlOTQ2NDIzMTYzNDY5Nik7CiAgICAgICAgICAgIAo8L3NjcmlwdD4=\" style=\"position:absolute;width:100%;height:100%;left:0;top:0;border:none !important;\" allowfullscreen webkitallowfullscreen mozallowfullscreen></iframe></div></div>"
      ],
      "text/plain": [
       "<folium.folium.Map at 0x11ae2eb38>"
      ]
     },
     "execution_count": 19,
     "metadata": {},
     "output_type": "execute_result"
    }
   ],
   "source": [
    "class_locations = {}\n",
    "count = 0\n",
    "while True:\n",
    "    if count == 6:\n",
    "        break\n",
    "    class_name = input('What is the name of your class? e.g.(IST 195) ')\n",
    "    if class_name == 'done':\n",
    "        break\n",
    "    else:\n",
    "        try:\n",
    "            building = input('What building is your class in? e.g.(Hinds Hall) ')\n",
    "            url = 'https://nominatim.openstreetmap.org/search'\n",
    "            options = { 'q' : building + ' syracuse', 'format' : 'json'}\n",
    "            response = requests.get(url, params = options)\n",
    "            geodata = response.json()\n",
    "            destination = { geodata[0]['display_name'] }\n",
    "            parsed_destination = ','.join(str(s) for s in destination)\n",
    "        except IndexError:\n",
    "            print(\"Sorry, we couldn't find that building\")\n",
    "            building= input('What building is your class in? e.g.(Hinds Hall) ')\n",
    "            url = 'https://nominatim.openstreetmap.org/search'\n",
    "            options = { 'q' : building + ' syracuse', 'format' : 'json'}\n",
    "            response = requests.get(url, params = options)\n",
    "            if response.text == []:\n",
    "                break\n",
    "            else:\n",
    "                indexError()\n",
    "    class_locations[class_name] = building\n",
    "    count = count + 1\n",
    "for class_name,building in class_locations.items():\n",
    "    print(class_name, building)\n",
    "class_selector = input('What class are you going to? ')\n",
    "while True:\n",
    "    if class_selector not in class_locations:\n",
    "        print (\"Class not found on schedule\")\n",
    "        class_selector = input('Please choose another: ')\n",
    "    else:\n",
    "        break\n",
    "try:\n",
    "    url = 'https://nominatim.openstreetmap.org/search'\n",
    "    options = { 'q' : building + ' syracuse', 'format' : 'json'}\n",
    "    response = requests.get(url, params = options)            \n",
    "    geodata = response.json()\n",
    "    destination = { geodata[0]['display_name'] }\n",
    "    parsed_destination = ','.join(str(s) for s in destination)\n",
    "    building = class_locations[class_selector]\n",
    "except IndexError:\n",
    "    class_selector = input('What class are you going to? ')\n",
    "    \n",
    "building = class_locations[class_selector]        \n",
    "url = 'https://nominatim.openstreetmap.org/search'\n",
    "options = { 'q' : building + ' syracuse', 'format' : 'json'}\n",
    "response = requests.get(url, params = options)            \n",
    "geodata = response.json()\n",
    "destination = { geodata[0]['display_name'] }\n",
    "parsed_destination = ','.join(str(s) for s in destination)\n",
    "\n",
    "currentCount = 0\n",
    "while True:\n",
    "    if currentCount == 0:\n",
    "        search = input('What is your current location (e.g) 123 Main St. ')\n",
    "        try:\n",
    "            url = 'https://nominatim.openstreetmap.org/search'\n",
    "            options = { 'q' : search + ' syracuse', 'format' : 'json'}\n",
    "            response = requests.get(url, params = options)            \n",
    "            geodata = response.json()\n",
    "            start = { geodata[0]['display_name'] }\n",
    "            parsed_start = ','.join(str(s) for s in start)\n",
    "            currentCount = 1\n",
    "        except IndexError:\n",
    "            print(\"We couldn't find that address. \")\n",
    "    else:\n",
    "        break\n",
    "\n",
    "try:    \n",
    "    url = 'http://www.mapquestapi.com/directions/v2/route?key=s0V8xnaGzA4sMXWSUKsvA2nWz3kAHaud&from=' + parsed_start +'&to=' + parsed_destination + '&routeType=pedestrian'\n",
    "    response = requests.get(url)\n",
    "    directions = response.json()\n",
    "    step_number = 1\n",
    "    narratives = directions['route']['legs'][0]['maneuvers']\n",
    "    count = directions['route']['legs'][0]['maneuvers'][0]['direction']\n",
    "    time = directions['route']['formattedTime']\n",
    "    print('It will take you %s to travel to your destination.' % (time))\n",
    "    for count in narratives:\n",
    "        print('%i. %s ' % (step_number, narratives[step_number]['narrative']))\n",
    "        step_number = step_number + 1\n",
    "except IndexError:\n",
    "    print('')\n",
    "    \n",
    "Syracuse = (43.0392,-76.1351)\n",
    "map = folium.Map(location=Syracuse, zoom_start=15)\n",
    "start = (directions['route']['legs'][0]['maneuvers'][0]['startPoint']['lat'], directions['route']['legs'][0]['maneuvers'][0]['startPoint']['lng'])\n",
    "end = (directions['route']['locations'][1]['latLng']['lat'], directions['route']['locations'][1]['latLng']['lng'])\n",
    "points = (start, end)\n",
    "marker = folium.Marker(location= start)\n",
    "marker2 = folium.Marker(location= end)\n",
    "map.add_child(marker)\n",
    "map.add_child(marker2)\n",
    "folium.PolyLine(points, color=\"orange\", weight=2.5, opacity=1).add_to(map)\n",
    "map"
   ]
  },
  {
   "cell_type": "code",
   "execution_count": 20,
   "metadata": {},
   "outputs": [
    {
     "name": "stdout",
     "output_type": "stream",
     "text": [
      "IST 195 Hinds Hall\n",
      "IST 233 Hall of Languages\n",
      "Another Class? ISt 233\n",
      "Class not found on schedule\n",
      "Please choose another: IST 233\n",
      "What is your current location (e.g) 123 Main St. 201 Lambreth Ln\n",
      "It will take you 00:50:51 to travel to your destination.\n",
      "1. Turn left onto Farm Acre Rd. \n",
      "2. Turn right onto Skytop Rd. \n",
      "3. Turn left onto E Colvin St. \n",
      "4. Turn right onto Comstock Ave. \n",
      "5. Turn left. \n",
      "6. Turn right (Portions unpaved). \n",
      "7. Turn slight right onto walkway. Proceed north through State University of New York College of Environmental Science and Forestry (See map for details). \n",
      "8. Turn slight right. \n",
      "9. Turn left. \n",
      "10. Turn left onto Campus Dr. \n",
      "11. Turn right onto Oak Leaf Dr. \n",
      "12. Turn left onto Forestry Dr. \n",
      "13. Turn right onto Crouse Dr. \n",
      "14. Crouse Dr becomes unnamed road. \n",
      "15. Turn right onto Crouse Dr. \n",
      "16. CROUSE DR. \n",
      "\n"
     ]
    },
    {
     "data": {
      "text/html": [
       "<div style=\"width:100%;\"><div style=\"position:relative;width:100%;height:0;padding-bottom:60%;\"><iframe src=\"data:text/html;charset=utf-8;base64,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\" style=\"position:absolute;width:100%;height:100%;left:0;top:0;border:none !important;\" allowfullscreen webkitallowfullscreen mozallowfullscreen></iframe></div></div>"
      ],
      "text/plain": [
       "<folium.folium.Map at 0x11afa6240>"
      ]
     },
     "execution_count": 20,
     "metadata": {},
     "output_type": "execute_result"
    }
   ],
   "source": [
    "for class_name,building in class_locations.items():\n",
    "    print(class_name, building)\n",
    "class_selector = input('Another Class? ')\n",
    "while True:\n",
    "    if class_selector not in class_locations:\n",
    "        print (\"Class not found on schedule\")\n",
    "        class_selector = input('Please choose another: ')\n",
    "    else:\n",
    "        break\n",
    "try:\n",
    "    url = 'https://nominatim.openstreetmap.org/search'\n",
    "    options = { 'q' : building + ' syracuse', 'format' : 'json'}\n",
    "    response = requests.get(url, params = options)            \n",
    "    geodata = response.json()\n",
    "    destination = { geodata[0]['display_name'] }\n",
    "    parsed_destination = ','.join(str(s) for s in destination)\n",
    "    building = class_locations[class_selector]\n",
    "except IndexError:\n",
    "    class_selector = input('What class are you going to? ')\n",
    "\n",
    "building = class_locations[class_selector]        \n",
    "url = 'https://nominatim.openstreetmap.org/search'\n",
    "options = { 'q' : building + ' syracuse', 'format' : 'json'}\n",
    "response = requests.get(url, params = options)            \n",
    "geodata = response.json()\n",
    "destination = { geodata[0]['display_name'] }\n",
    "parsed_destination = ','.join(str(s) for s in destination)\n",
    "\n",
    "currentCount = 0\n",
    "while True:\n",
    "    if currentCount == 0:\n",
    "        search = input('What is your current location (e.g) 123 Main St. ')\n",
    "        try:\n",
    "            url = 'https://nominatim.openstreetmap.org/search'\n",
    "            options = { 'q' : search + ' syracuse', 'format' : 'json'}\n",
    "            response = requests.get(url, params = options)            \n",
    "            geodata = response.json()\n",
    "            start = { geodata[0]['display_name'] }\n",
    "            parsed_start = ','.join(str(s) for s in start)\n",
    "            currentCount = 1\n",
    "        except IndexError:\n",
    "            print(\"We couldn't find that address. \")\n",
    "    else:\n",
    "        break\n",
    "\n",
    "try:    \n",
    "    url = 'http://www.mapquestapi.com/directions/v2/route?key=s0V8xnaGzA4sMXWSUKsvA2nWz3kAHaud&from=' + parsed_start +'&to=' + parsed_destination + '&routeType=pedestrian'\n",
    "    response = requests.get(url)\n",
    "    directions = response.json()\n",
    "    step_number = 1\n",
    "    narratives = directions['route']['legs'][0]['maneuvers']\n",
    "    count = directions['route']['legs'][0]['maneuvers'][0]['direction']\n",
    "    time = directions['route']['formattedTime']\n",
    "    print('It will take you %s to travel to your destination.' % (time))\n",
    "    for count in narratives:\n",
    "        print('%i. %s ' % (step_number, narratives[step_number]['narrative']))\n",
    "        step_number = step_number + 1\n",
    "except IndexError:\n",
    "    print('')\n",
    "\n",
    "Syracuse = (43.0392,-76.1351)\n",
    "map = folium.Map(location=Syracuse, zoom_start=15)\n",
    "start = (directions['route']['legs'][0]['maneuvers'][0]['startPoint']['lat'], directions['route']['legs'][0]['maneuvers'][0]['startPoint']['lng'])\n",
    "end = (directions['route']['locations'][1]['latLng']['lat'], directions['route']['locations'][1]['latLng']['lng'])\n",
    "points = (start, end)\n",
    "marker = folium.Marker(location= start)\n",
    "marker2 = folium.Marker(location= end)\n",
    "map.add_child(marker)\n",
    "map.add_child(marker2)\n",
    "folium.PolyLine(points, color=\"orange\", weight=2.5, opacity=1).add_to(map)\n",
    "map"
   ]
  },
  {
   "cell_type": "raw",
   "metadata": {},
   "source": []
  }
 ],
 "metadata": {
  "kernelspec": {
   "display_name": "Python 3",
   "language": "python",
   "name": "python3"
  },
  "language_info": {
   "codemirror_mode": {
    "name": "ipython",
    "version": 3
   },
   "file_extension": ".py",
   "mimetype": "text/x-python",
   "name": "python",
   "nbconvert_exporter": "python",
   "pygments_lexer": "ipython3",
   "version": "3.6.6"
  }
 },
 "nbformat": 4,
 "nbformat_minor": 2
}
