{
 "cells": [
  {
   "cell_type": "code",
   "execution_count": 25,
   "metadata": {},
   "outputs": [
    {
     "name": "stdout",
     "output_type": "stream",
     "text": [
      "\u001b[33mYou are using pip version 18.0, however version 18.1 is available.\r\n",
      "You should consider upgrading via the 'pip install --upgrade pip' command.\u001b[0m\r\n"
     ]
    }
   ],
   "source": [
    "!pip3 install -q requests"
   ]
  },
  {
   "cell_type": "code",
   "execution_count": 26,
   "metadata": {},
   "outputs": [],
   "source": [
    "import requests\n",
    "import json"
   ]
  },
  {
   "cell_type": "code",
   "execution_count": 62,
   "metadata": {},
   "outputs": [],
   "source": [
    "url = 'http://www.mapquestapi.com/directions/v2/route?key=s0V8xnaGzA4sMXWSUKsvA2nWz3kAHaud&from='+ parsed_start +'&to='+ parsed_destination\n",
    "response = requests.get(url)"
   ]
  },
  {
   "cell_type": "code",
   "execution_count": 63,
   "metadata": {},
   "outputs": [
    {
     "data": {
      "text/plain": [
       "True"
      ]
     },
     "execution_count": 63,
     "metadata": {},
     "output_type": "execute_result"
    }
   ],
   "source": [
    "response.ok"
   ]
  },
  {
   "cell_type": "code",
   "execution_count": 64,
   "metadata": {},
   "outputs": [
    {
     "data": {
      "text/plain": [
       "'{\"route\":{\"hasTollRoad\":false,\"hasBridge\":false,\"boundingBox\":{\"lr\":{\"lng\":-76.128555,\"lat\":43.036255},\"ul\":{\"lng\":-76.134377,\"lat\":43.04628}},\"distance\":1.019,\"hasTimedRestriction\":false,\"hasTunnel\":false,\"hasHighway\":false,\"computedWaypoints\":[],\"routeError\":{\"errorCode\":-400,\"message\":\"\"},\"formattedTime\":\"00:04:41\",\"sessionId\":\"5c0ed144-0222-6750-02b4-1bbd-0af49c46b062\",\"hasAccessRestriction\":false,\"realTime\":281,\"hasSeasonalClosure\":false,\"hasCountryCross\":false,\"fuelUsed\":0.1,\"legs\":[{\"hasTollRoad\":false,\"hasBridge\":false,\"destNarrative\":\"\",\"distance\":1.019,\"hasTimedRestriction\":false,\"hasTunnel\":false,\"hasHighway\":false,\"index\":0,\"formattedTime\":\"00:04:41\",\"origIndex\":-1,\"hasAccessRestriction\":false,\"hasSeasonalClosure\":false,\"hasCountryCross\":false,\"roadGradeStrategy\":[[]],\"destIndex\":-1,\"time\":281,\"hasUnpaved\":false,\"origNarrative\":\"\",\"maneuvers\":[{\"distance\":0.019,\"streets\":[\"Comstock Pl\"],\"narrative\":\"Start out going southeast on Comstock Pl toward Ostrom Ave.\",\"turnType\":6,\"startPoint\":{\"lng\":-76.129272,\"lat\":43.04628},\"index\":0,\"formattedTime\":\"00:00:05\",\"directionName\":\"Southeast\",\"maneuverNotes\":[],\"linkIds\":[],\"signs\":[],\"mapUrl\":\"http://www.mapquestapi.com/staticmap/v5/map?key=s0V8xnaGzA4sMXWSUKsvA2nWz3kAHaud&size=225,160&locations=43.04627990722656,-76.1292724609375|marker-1||43.04610824584961,-76.12908172607422|marker-2||&center=43.046194076538086,-76.12917709350586&defaultMarker=none&zoom=15&rand=389954864&session=5c0ed144-0222-6750-02b4-1bbd-0af49c46b062\",\"transportMode\":\"AUTO\",\"attributes\":0,\"time\":5,\"iconUrl\":\"http://content.mqcdn.com/mqsite/turnsigns/icon-dirs-start_sm.gif\",\"direction\":5},{\"distance\":0.391,\"streets\":[\"Ostrom Ave\"],\"narrative\":\"Stay straight to go onto Ostrom Ave.\",\"turnType\":0,\"startPoint\":{\"lng\":-76.129082,\"lat\":43.046108},\"index\":1,\"formattedTime\":\"00:01:12\",\"directionName\":\"South\",\"maneuverNotes\":[],\"linkIds\":[],\"signs\":[],\"mapUrl\":\"http://www.mapquestapi.com/staticmap/v5/map?key=s0V8xnaGzA4sMXWSUKsvA2nWz3kAHaud&size=225,160&locations=43.04610824584961,-76.12908172607422|marker-2||43.040462493896484,-76.12855529785156|marker-3||&center=43.04328536987305,-76.12881851196289&defaultMarker=none&zoom=11&rand=389954864&session=5c0ed144-0222-6750-02b4-1bbd-0af49c46b062\",\"transportMode\":\"AUTO\",\"attributes\":0,\"time\":72,\"iconUrl\":\"http://content.mqcdn.com/mqsite/turnsigns/rs_straight_sm.gif\",\"direction\":4},{\"distance\":0.082,\"streets\":[\"Waverly Ave\"],\"narrative\":\"Turn right onto Waverly Ave.\",\"turnType\":2,\"startPoint\":{\"lng\":-76.128555,\"lat\":43.040462},\"index\":2,\"formattedTime\":\"00:00:24\",\"directionName\":\"West\",\"maneuverNotes\":[],\"linkIds\":[],\"signs\":[],\"mapUrl\":\"http://www.mapquestapi.com/staticmap/v5/map?key=s0V8xnaGzA4sMXWSUKsvA2nWz3kAHaud&size=225,160&locations=43.040462493896484,-76.12855529785156|marker-3||43.04047393798828,-76.13017272949219|marker-4||&center=43.04046821594238,-76.12936401367188&defaultMarker=none&zoom=14&rand=389954864&session=5c0ed144-0222-6750-02b4-1bbd-0af49c46b062\",\"transportMode\":\"AUTO\",\"attributes\":0,\"time\":24,\"iconUrl\":\"http://content.mqcdn.com/mqsite/turnsigns/rs_right_sm.gif\",\"direction\":7},{\"distance\":0.259,\"streets\":[\"Comstock Ave\"],\"narrative\":\"Turn left onto Comstock Ave.\",\"turnType\":6,\"startPoint\":{\"lng\":-76.130173,\"lat\":43.040474},\"index\":3,\"formattedTime\":\"00:01:01\",\"directionName\":\"South\",\"maneuverNotes\":[],\"linkIds\":[],\"signs\":[],\"mapUrl\":\"http://www.mapquestapi.com/staticmap/v5/map?key=s0V8xnaGzA4sMXWSUKsvA2nWz3kAHaud&size=225,160&locations=43.04047393798828,-76.13017272949219|marker-4||43.03672790527344,-76.12984466552734|marker-5||&center=43.03860092163086,-76.13000869750977&defaultMarker=none&zoom=11&rand=389954864&session=5c0ed144-0222-6750-02b4-1bbd-0af49c46b062\",\"transportMode\":\"AUTO\",\"attributes\":0,\"time\":61,\"iconUrl\":\"http://content.mqcdn.com/mqsite/turnsigns/rs_left_sm.gif\",\"direction\":4},{\"distance\":0.079,\"streets\":[],\"narrative\":\"Turn right.\",\"turnType\":2,\"startPoint\":{\"lng\":-76.129845,\"lat\":43.036728},\"index\":4,\"formattedTime\":\"00:01:09\",\"directionName\":\"West\",\"maneuverNotes\":[],\"linkIds\":[],\"signs\":[],\"mapUrl\":\"http://www.mapquestapi.com/staticmap/v5/map?key=s0V8xnaGzA4sMXWSUKsvA2nWz3kAHaud&size=225,160&locations=43.03672790527344,-76.12984466552734|marker-5||43.036624908447266,-76.13140106201172|marker-6||&center=43.03667640686035,-76.13062286376953&defaultMarker=none&zoom=15&rand=389954864&session=5c0ed144-0222-6750-02b4-1bbd-0af49c46b062\",\"transportMode\":\"AUTO\",\"attributes\":0,\"time\":69,\"iconUrl\":\"http://content.mqcdn.com/mqsite/turnsigns/rs_right_sm.gif\",\"direction\":7},{\"distance\":0.026,\"streets\":[\"College Pl\"],\"narrative\":\"Turn left onto College Pl.\",\"turnType\":6,\"startPoint\":{\"lng\":-76.131401,\"lat\":43.036625},\"index\":5,\"formattedTime\":\"00:00:09\",\"directionName\":\"South\",\"maneuverNotes\":[],\"linkIds\":[],\"signs\":[],\"mapUrl\":\"http://www.mapquestapi.com/staticmap/v5/map?key=s0V8xnaGzA4sMXWSUKsvA2nWz3kAHaud&size=225,160&locations=43.036624908447266,-76.13140106201172|marker-6||43.0362548828125,-76.13130187988281|marker-7||&center=43.03643989562988,-76.13135147094727&defaultMarker=none&zoom=15&rand=389570115&session=5c0ed144-0222-6750-02b4-1bbd-0af49c46b062\",\"transportMode\":\"AUTO\",\"attributes\":0,\"time\":9,\"iconUrl\":\"http://content.mqcdn.com/mqsite/turnsigns/rs_left_sm.gif\",\"direction\":4},{\"distance\":0.163,\"streets\":[\"Sims Dr\"],\"narrative\":\"Turn right onto Sims Dr.\",\"turnType\":2,\"startPoint\":{\"lng\":-76.131302,\"lat\":43.036255},\"index\":6,\"formattedTime\":\"00:00:41\",\"directionName\":\"West\",\"maneuverNotes\":[],\"linkIds\":[],\"signs\":[],\"mapUrl\":\"http://www.mapquestapi.com/staticmap/v5/map?key=s0V8xnaGzA4sMXWSUKsvA2nWz3kAHaud&size=225,160&locations=43.0362548828125,-76.13130187988281|marker-7||43.0362663269043,-76.1343765258789|marker-8||&center=43.0362606048584,-76.13283920288086&defaultMarker=none&zoom=13&rand=389570115&session=5c0ed144-0222-6750-02b4-1bbd-0af49c46b062\",\"transportMode\":\"AUTO\",\"attributes\":0,\"time\":41,\"iconUrl\":\"http://content.mqcdn.com/mqsite/turnsigns/rs_right_sm.gif\",\"direction\":7},{\"distance\":0,\"streets\":[],\"narrative\":\"SIMS DRIVE.\",\"turnType\":-1,\"startPoint\":{\"lng\":-76.134377,\"lat\":43.036266},\"index\":7,\"formattedTime\":\"00:00:00\",\"directionName\":\"\",\"maneuverNotes\":[],\"linkIds\":[],\"signs\":[],\"transportMode\":\"AUTO\",\"attributes\":0,\"time\":0,\"iconUrl\":\"http://content.mqcdn.com/mqsite/turnsigns/icon-dirs-end_sm.gif\",\"direction\":0}],\"hasFerry\":false}],\"options\":{\"arteryWeights\":[],\"cyclingRoadFactor\":1,\"timeType\":0,\"useTraffic\":false,\"returnLinkDirections\":false,\"countryBoundaryDisplay\":true,\"enhancedNarrative\":false,\"locale\":\"en_US\",\"tryAvoidLinkIds\":[],\"drivingStyle\":2,\"doReverseGeocode\":true,\"generalize\":-1,\"mustAvoidLinkIds\":[],\"sideOfStreetDisplay\":true,\"routeType\":\"FASTEST\",\"avoidTimedConditions\":false,\"routeNumber\":0,\"shapeFormat\":\"raw\",\"maxWalkingDistance\":-1,\"destinationManeuverDisplay\":true,\"transferPenalty\":-1,\"narrativeType\":\"text\",\"walkingSpeed\":-1,\"urbanAvoidFactor\":-1,\"stateBoundaryDisplay\":true,\"unit\":\"M\",\"highwayEfficiency\":22,\"maxLinkId\":0,\"maneuverPenalty\":-1,\"avoidTripIds\":[],\"filterZoneFactor\":-1,\"manmaps\":\"true\"},\"locations\":[{\"dragPoint\":false,\"displayLatLng\":{\"lng\":-76.129272,\"lat\":43.046284},\"adminArea4\":\"Onondaga\",\"adminArea5\":\"Syracuse\",\"postalCode\":\"13210-2021\",\"adminArea1\":\"US\",\"adminArea3\":\"NY\",\"type\":\"s\",\"sideOfStreet\":\"L\",\"geocodeQualityCode\":\"P1AAA\",\"adminArea4Type\":\"County\",\"linkId\":48840058,\"street\":\"137 Comstock Pl\",\"adminArea5Type\":\"City\",\"geocodeQuality\":\"POINT\",\"adminArea1Type\":\"Country\",\"adminArea3Type\":\"State\",\"latLng\":{\"lng\":-76.129276,\"lat\":43.046282}},{\"dragPoint\":false,\"displayLatLng\":{\"lng\":-76.134651,\"lat\":43.037029},\"adminArea4\":\"Onondaga County\",\"adminArea5\":\"Syracuse\",\"postalCode\":\"13244\",\"adminArea1\":\"US\",\"adminArea3\":\"NY\",\"type\":\"s\",\"sideOfStreet\":\"N\",\"geocodeQualityCode\":\"L1AAA\",\"adminArea4Type\":\"County\",\"linkId\":11192193,\"street\":\"Sims Drive\",\"adminArea5Type\":\"City\",\"geocodeQuality\":\"ADDRESS\",\"adminArea1Type\":\"Country\",\"adminArea3Type\":\"State\",\"latLng\":{\"lng\":-76.134653,\"lat\":43.037031}}],\"time\":281,\"hasUnpaved\":false,\"locationSequence\":[0,1],\"hasFerry\":false},\"info\":{\"statuscode\":0,\"copyright\":{\"imageAltText\":\"© 2018 MapQuest, Inc.\",\"imageUrl\":\"http://api.mqcdn.com/res/mqlogo.gif\",\"text\":\"© 2018 MapQuest, Inc.\"},\"messages\":[]}}'"
      ]
     },
     "execution_count": 64,
     "metadata": {},
     "output_type": "execute_result"
    }
   ],
   "source": [
    "response.text"
   ]
  },
  {
   "cell_type": "code",
   "execution_count": 65,
   "metadata": {},
   "outputs": [
    {
     "data": {
      "text/plain": [
       "{'route': {'hasTollRoad': False,\n",
       "  'hasBridge': False,\n",
       "  'boundingBox': {'lr': {'lng': -76.128555, 'lat': 43.036255},\n",
       "   'ul': {'lng': -76.134377, 'lat': 43.04628}},\n",
       "  'distance': 1.019,\n",
       "  'hasTimedRestriction': False,\n",
       "  'hasTunnel': False,\n",
       "  'hasHighway': False,\n",
       "  'computedWaypoints': [],\n",
       "  'routeError': {'errorCode': -400, 'message': ''},\n",
       "  'formattedTime': '00:04:41',\n",
       "  'sessionId': '5c0ed144-0222-6750-02b4-1bbd-0af49c46b062',\n",
       "  'hasAccessRestriction': False,\n",
       "  'realTime': 281,\n",
       "  'hasSeasonalClosure': False,\n",
       "  'hasCountryCross': False,\n",
       "  'fuelUsed': 0.1,\n",
       "  'legs': [{'hasTollRoad': False,\n",
       "    'hasBridge': False,\n",
       "    'destNarrative': '',\n",
       "    'distance': 1.019,\n",
       "    'hasTimedRestriction': False,\n",
       "    'hasTunnel': False,\n",
       "    'hasHighway': False,\n",
       "    'index': 0,\n",
       "    'formattedTime': '00:04:41',\n",
       "    'origIndex': -1,\n",
       "    'hasAccessRestriction': False,\n",
       "    'hasSeasonalClosure': False,\n",
       "    'hasCountryCross': False,\n",
       "    'roadGradeStrategy': [[]],\n",
       "    'destIndex': -1,\n",
       "    'time': 281,\n",
       "    'hasUnpaved': False,\n",
       "    'origNarrative': '',\n",
       "    'maneuvers': [{'distance': 0.019,\n",
       "      'streets': ['Comstock Pl'],\n",
       "      'narrative': 'Start out going southeast on Comstock Pl toward Ostrom Ave.',\n",
       "      'turnType': 6,\n",
       "      'startPoint': {'lng': -76.129272, 'lat': 43.04628},\n",
       "      'index': 0,\n",
       "      'formattedTime': '00:00:05',\n",
       "      'directionName': 'Southeast',\n",
       "      'maneuverNotes': [],\n",
       "      'linkIds': [],\n",
       "      'signs': [],\n",
       "      'mapUrl': 'http://www.mapquestapi.com/staticmap/v5/map?key=s0V8xnaGzA4sMXWSUKsvA2nWz3kAHaud&size=225,160&locations=43.04627990722656,-76.1292724609375|marker-1||43.04610824584961,-76.12908172607422|marker-2||&center=43.046194076538086,-76.12917709350586&defaultMarker=none&zoom=15&rand=389954864&session=5c0ed144-0222-6750-02b4-1bbd-0af49c46b062',\n",
       "      'transportMode': 'AUTO',\n",
       "      'attributes': 0,\n",
       "      'time': 5,\n",
       "      'iconUrl': 'http://content.mqcdn.com/mqsite/turnsigns/icon-dirs-start_sm.gif',\n",
       "      'direction': 5},\n",
       "     {'distance': 0.391,\n",
       "      'streets': ['Ostrom Ave'],\n",
       "      'narrative': 'Stay straight to go onto Ostrom Ave.',\n",
       "      'turnType': 0,\n",
       "      'startPoint': {'lng': -76.129082, 'lat': 43.046108},\n",
       "      'index': 1,\n",
       "      'formattedTime': '00:01:12',\n",
       "      'directionName': 'South',\n",
       "      'maneuverNotes': [],\n",
       "      'linkIds': [],\n",
       "      'signs': [],\n",
       "      'mapUrl': 'http://www.mapquestapi.com/staticmap/v5/map?key=s0V8xnaGzA4sMXWSUKsvA2nWz3kAHaud&size=225,160&locations=43.04610824584961,-76.12908172607422|marker-2||43.040462493896484,-76.12855529785156|marker-3||&center=43.04328536987305,-76.12881851196289&defaultMarker=none&zoom=11&rand=389954864&session=5c0ed144-0222-6750-02b4-1bbd-0af49c46b062',\n",
       "      'transportMode': 'AUTO',\n",
       "      'attributes': 0,\n",
       "      'time': 72,\n",
       "      'iconUrl': 'http://content.mqcdn.com/mqsite/turnsigns/rs_straight_sm.gif',\n",
       "      'direction': 4},\n",
       "     {'distance': 0.082,\n",
       "      'streets': ['Waverly Ave'],\n",
       "      'narrative': 'Turn right onto Waverly Ave.',\n",
       "      'turnType': 2,\n",
       "      'startPoint': {'lng': -76.128555, 'lat': 43.040462},\n",
       "      'index': 2,\n",
       "      'formattedTime': '00:00:24',\n",
       "      'directionName': 'West',\n",
       "      'maneuverNotes': [],\n",
       "      'linkIds': [],\n",
       "      'signs': [],\n",
       "      'mapUrl': 'http://www.mapquestapi.com/staticmap/v5/map?key=s0V8xnaGzA4sMXWSUKsvA2nWz3kAHaud&size=225,160&locations=43.040462493896484,-76.12855529785156|marker-3||43.04047393798828,-76.13017272949219|marker-4||&center=43.04046821594238,-76.12936401367188&defaultMarker=none&zoom=14&rand=389954864&session=5c0ed144-0222-6750-02b4-1bbd-0af49c46b062',\n",
       "      'transportMode': 'AUTO',\n",
       "      'attributes': 0,\n",
       "      'time': 24,\n",
       "      'iconUrl': 'http://content.mqcdn.com/mqsite/turnsigns/rs_right_sm.gif',\n",
       "      'direction': 7},\n",
       "     {'distance': 0.259,\n",
       "      'streets': ['Comstock Ave'],\n",
       "      'narrative': 'Turn left onto Comstock Ave.',\n",
       "      'turnType': 6,\n",
       "      'startPoint': {'lng': -76.130173, 'lat': 43.040474},\n",
       "      'index': 3,\n",
       "      'formattedTime': '00:01:01',\n",
       "      'directionName': 'South',\n",
       "      'maneuverNotes': [],\n",
       "      'linkIds': [],\n",
       "      'signs': [],\n",
       "      'mapUrl': 'http://www.mapquestapi.com/staticmap/v5/map?key=s0V8xnaGzA4sMXWSUKsvA2nWz3kAHaud&size=225,160&locations=43.04047393798828,-76.13017272949219|marker-4||43.03672790527344,-76.12984466552734|marker-5||&center=43.03860092163086,-76.13000869750977&defaultMarker=none&zoom=11&rand=389954864&session=5c0ed144-0222-6750-02b4-1bbd-0af49c46b062',\n",
       "      'transportMode': 'AUTO',\n",
       "      'attributes': 0,\n",
       "      'time': 61,\n",
       "      'iconUrl': 'http://content.mqcdn.com/mqsite/turnsigns/rs_left_sm.gif',\n",
       "      'direction': 4},\n",
       "     {'distance': 0.079,\n",
       "      'streets': [],\n",
       "      'narrative': 'Turn right.',\n",
       "      'turnType': 2,\n",
       "      'startPoint': {'lng': -76.129845, 'lat': 43.036728},\n",
       "      'index': 4,\n",
       "      'formattedTime': '00:01:09',\n",
       "      'directionName': 'West',\n",
       "      'maneuverNotes': [],\n",
       "      'linkIds': [],\n",
       "      'signs': [],\n",
       "      'mapUrl': 'http://www.mapquestapi.com/staticmap/v5/map?key=s0V8xnaGzA4sMXWSUKsvA2nWz3kAHaud&size=225,160&locations=43.03672790527344,-76.12984466552734|marker-5||43.036624908447266,-76.13140106201172|marker-6||&center=43.03667640686035,-76.13062286376953&defaultMarker=none&zoom=15&rand=389954864&session=5c0ed144-0222-6750-02b4-1bbd-0af49c46b062',\n",
       "      'transportMode': 'AUTO',\n",
       "      'attributes': 0,\n",
       "      'time': 69,\n",
       "      'iconUrl': 'http://content.mqcdn.com/mqsite/turnsigns/rs_right_sm.gif',\n",
       "      'direction': 7},\n",
       "     {'distance': 0.026,\n",
       "      'streets': ['College Pl'],\n",
       "      'narrative': 'Turn left onto College Pl.',\n",
       "      'turnType': 6,\n",
       "      'startPoint': {'lng': -76.131401, 'lat': 43.036625},\n",
       "      'index': 5,\n",
       "      'formattedTime': '00:00:09',\n",
       "      'directionName': 'South',\n",
       "      'maneuverNotes': [],\n",
       "      'linkIds': [],\n",
       "      'signs': [],\n",
       "      'mapUrl': 'http://www.mapquestapi.com/staticmap/v5/map?key=s0V8xnaGzA4sMXWSUKsvA2nWz3kAHaud&size=225,160&locations=43.036624908447266,-76.13140106201172|marker-6||43.0362548828125,-76.13130187988281|marker-7||&center=43.03643989562988,-76.13135147094727&defaultMarker=none&zoom=15&rand=389570115&session=5c0ed144-0222-6750-02b4-1bbd-0af49c46b062',\n",
       "      'transportMode': 'AUTO',\n",
       "      'attributes': 0,\n",
       "      'time': 9,\n",
       "      'iconUrl': 'http://content.mqcdn.com/mqsite/turnsigns/rs_left_sm.gif',\n",
       "      'direction': 4},\n",
       "     {'distance': 0.163,\n",
       "      'streets': ['Sims Dr'],\n",
       "      'narrative': 'Turn right onto Sims Dr.',\n",
       "      'turnType': 2,\n",
       "      'startPoint': {'lng': -76.131302, 'lat': 43.036255},\n",
       "      'index': 6,\n",
       "      'formattedTime': '00:00:41',\n",
       "      'directionName': 'West',\n",
       "      'maneuverNotes': [],\n",
       "      'linkIds': [],\n",
       "      'signs': [],\n",
       "      'mapUrl': 'http://www.mapquestapi.com/staticmap/v5/map?key=s0V8xnaGzA4sMXWSUKsvA2nWz3kAHaud&size=225,160&locations=43.0362548828125,-76.13130187988281|marker-7||43.0362663269043,-76.1343765258789|marker-8||&center=43.0362606048584,-76.13283920288086&defaultMarker=none&zoom=13&rand=389570115&session=5c0ed144-0222-6750-02b4-1bbd-0af49c46b062',\n",
       "      'transportMode': 'AUTO',\n",
       "      'attributes': 0,\n",
       "      'time': 41,\n",
       "      'iconUrl': 'http://content.mqcdn.com/mqsite/turnsigns/rs_right_sm.gif',\n",
       "      'direction': 7},\n",
       "     {'distance': 0,\n",
       "      'streets': [],\n",
       "      'narrative': 'SIMS DRIVE.',\n",
       "      'turnType': -1,\n",
       "      'startPoint': {'lng': -76.134377, 'lat': 43.036266},\n",
       "      'index': 7,\n",
       "      'formattedTime': '00:00:00',\n",
       "      'directionName': '',\n",
       "      'maneuverNotes': [],\n",
       "      'linkIds': [],\n",
       "      'signs': [],\n",
       "      'transportMode': 'AUTO',\n",
       "      'attributes': 0,\n",
       "      'time': 0,\n",
       "      'iconUrl': 'http://content.mqcdn.com/mqsite/turnsigns/icon-dirs-end_sm.gif',\n",
       "      'direction': 0}],\n",
       "    'hasFerry': False}],\n",
       "  'options': {'arteryWeights': [],\n",
       "   'cyclingRoadFactor': 1,\n",
       "   'timeType': 0,\n",
       "   'useTraffic': False,\n",
       "   'returnLinkDirections': False,\n",
       "   'countryBoundaryDisplay': True,\n",
       "   'enhancedNarrative': False,\n",
       "   'locale': 'en_US',\n",
       "   'tryAvoidLinkIds': [],\n",
       "   'drivingStyle': 2,\n",
       "   'doReverseGeocode': True,\n",
       "   'generalize': -1,\n",
       "   'mustAvoidLinkIds': [],\n",
       "   'sideOfStreetDisplay': True,\n",
       "   'routeType': 'FASTEST',\n",
       "   'avoidTimedConditions': False,\n",
       "   'routeNumber': 0,\n",
       "   'shapeFormat': 'raw',\n",
       "   'maxWalkingDistance': -1,\n",
       "   'destinationManeuverDisplay': True,\n",
       "   'transferPenalty': -1,\n",
       "   'narrativeType': 'text',\n",
       "   'walkingSpeed': -1,\n",
       "   'urbanAvoidFactor': -1,\n",
       "   'stateBoundaryDisplay': True,\n",
       "   'unit': 'M',\n",
       "   'highwayEfficiency': 22,\n",
       "   'maxLinkId': 0,\n",
       "   'maneuverPenalty': -1,\n",
       "   'avoidTripIds': [],\n",
       "   'filterZoneFactor': -1,\n",
       "   'manmaps': 'true'},\n",
       "  'locations': [{'dragPoint': False,\n",
       "    'displayLatLng': {'lng': -76.129272, 'lat': 43.046284},\n",
       "    'adminArea4': 'Onondaga',\n",
       "    'adminArea5': 'Syracuse',\n",
       "    'postalCode': '13210-2021',\n",
       "    'adminArea1': 'US',\n",
       "    'adminArea3': 'NY',\n",
       "    'type': 's',\n",
       "    'sideOfStreet': 'L',\n",
       "    'geocodeQualityCode': 'P1AAA',\n",
       "    'adminArea4Type': 'County',\n",
       "    'linkId': 48840058,\n",
       "    'street': '137 Comstock Pl',\n",
       "    'adminArea5Type': 'City',\n",
       "    'geocodeQuality': 'POINT',\n",
       "    'adminArea1Type': 'Country',\n",
       "    'adminArea3Type': 'State',\n",
       "    'latLng': {'lng': -76.129276, 'lat': 43.046282}},\n",
       "   {'dragPoint': False,\n",
       "    'displayLatLng': {'lng': -76.134651, 'lat': 43.037029},\n",
       "    'adminArea4': 'Onondaga County',\n",
       "    'adminArea5': 'Syracuse',\n",
       "    'postalCode': '13244',\n",
       "    'adminArea1': 'US',\n",
       "    'adminArea3': 'NY',\n",
       "    'type': 's',\n",
       "    'sideOfStreet': 'N',\n",
       "    'geocodeQualityCode': 'L1AAA',\n",
       "    'adminArea4Type': 'County',\n",
       "    'linkId': 11192193,\n",
       "    'street': 'Sims Drive',\n",
       "    'adminArea5Type': 'City',\n",
       "    'geocodeQuality': 'ADDRESS',\n",
       "    'adminArea1Type': 'Country',\n",
       "    'adminArea3Type': 'State',\n",
       "    'latLng': {'lng': -76.134653, 'lat': 43.037031}}],\n",
       "  'time': 281,\n",
       "  'hasUnpaved': False,\n",
       "  'locationSequence': [0, 1],\n",
       "  'hasFerry': False},\n",
       " 'info': {'statuscode': 0,\n",
       "  'copyright': {'imageAltText': '© 2018 MapQuest, Inc.',\n",
       "   'imageUrl': 'http://api.mqcdn.com/res/mqlogo.gif',\n",
       "   'text': '© 2018 MapQuest, Inc.'},\n",
       "  'messages': []}}"
      ]
     },
     "execution_count": 65,
     "metadata": {},
     "output_type": "execute_result"
    }
   ],
   "source": [
    "directions = response.json()  \n",
    "directions"
   ]
  },
  {
   "cell_type": "code",
   "execution_count": 66,
   "metadata": {},
   "outputs": [
    {
     "name": "stdout",
     "output_type": "stream",
     "text": [
      "1 Stay straight to go onto Ostrom Ave.\n",
      "2 Turn right onto Waverly Ave.\n",
      "3 Turn left onto Comstock Ave.\n",
      "4 Turn right.\n",
      "5 Turn left onto College Pl.\n",
      "6 Turn right onto Sims Dr.\n",
      "7 SIMS DRIVE.\n",
      "\n"
     ]
    }
   ],
   "source": [
    "try:\n",
    "    step_number = 1\n",
    "    narratives = directions['route']['legs'][0]['maneuvers']\n",
    "    count = directions['route']['legs'][0]['maneuvers'][0]['direction']\n",
    "    for count in narratives:\n",
    "        print(step_number, narratives[step_number]['narrative'])\n",
    "        step_number = step_number + 1\n",
    "except IndexError:\n",
    "    print('')"
   ]
  },
  {
   "cell_type": "code",
   "execution_count": 67,
   "metadata": {},
   "outputs": [
    {
     "name": "stdout",
     "output_type": "stream",
     "text": [
      "It will take you 00:04:41 to travel to your destination.\n"
     ]
    }
   ],
   "source": [
    "time = directions['route']['formattedTime']\n",
    "print('It will take you %s to travel to your destination.' % (time))"
   ]
  },
  {
   "cell_type": "code",
   "execution_count": 68,
   "metadata": {},
   "outputs": [
    {
     "name": "stdout",
     "output_type": "stream",
     "text": [
      "Where do you want to go? Physics Building\n",
      "Search for: Physics Building\n",
      "Address: {'Syracuse University Physics Building, Sims Drive, University Hill, Syracuse, Onondaga County, New York, 13244, USA'}\n",
      "Physics Building is located at {'Syracuse University Physics Building, Sims Drive, University Hill, Syracuse, Onondaga County, New York, 13244, USA'}\n"
     ]
    }
   ],
   "source": [
    "url = 'https://nominatim.openstreetmap.org/search'\n",
    "search = input('Where do you want to go? ')\n",
    "options = { 'q' : search + ' syracuse', 'format' : 'json'}\n",
    "response = requests.get(url, params = options)            \n",
    "geodata = response.json()\n",
    "address = { geodata[0]['display_name'] }\n",
    "print(\"Search for:\", search)\n",
    "print(\"Address:\", address)\n",
    "print(\"%s is located at %s\" %(search, address))"
   ]
  },
  {
   "cell_type": "markdown",
   "metadata": {},
   "source": []
  },
  {
   "cell_type": "code",
   "execution_count": 59,
   "metadata": {},
   "outputs": [
    {
     "name": "stdout",
     "output_type": "stream",
     "text": [
      "What building are you going to? Physics Building\n",
      "Syracuse University Physics Building, Sims Drive, University Hill, Syracuse, Onondaga County, New York, 13244, USA\n"
     ]
    }
   ],
   "source": [
    "class_name = input('What building are you going to? ')\n",
    "url = 'https://nominatim.openstreetmap.org/search'\n",
    "search = class_name\n",
    "options = { 'q' : search + ' syracuse', 'format' : 'json'}\n",
    "response = requests.get(url, params = options)            \n",
    "geodata = response.json()\n",
    "destination = { geodata[0]['display_name'] }\n",
    "parsed_destination = ','.join(str(s) for s in destination)\n",
    "print(parsed_destination)"
   ]
  },
  {
   "cell_type": "code",
   "execution_count": 60,
   "metadata": {},
   "outputs": [
    {
     "name": "stdout",
     "output_type": "stream",
     "text": [
      "What is your current location (e.g) 123 Main St.137 Comstock Pl\n",
      "137, Comstock Place, Near Eastside, Syracuse, Onondaga County, New York, 13210, USA\n"
     ]
    }
   ],
   "source": [
    "url = 'https://nominatim.openstreetmap.org/search'\n",
    "search = input('What is your current location (e.g) 123 Main St.')\n",
    "options = { 'q' : search + ' syracuse', 'format' : 'json'}\n",
    "response = requests.get(url, params = options)            \n",
    "geodata = response.json()\n",
    "start = { geodata[0]['display_name'] }\n",
    "parsed_start = ','.join(str(s) for s in start)\n",
    "print(parsed_start)"
   ]
  },
  {
   "cell_type": "code",
   "execution_count": 69,
   "metadata": {},
   "outputs": [
    {
     "name": "stdout",
     "output_type": "stream",
     "text": [
      "1 Stay straight to go onto Ostrom Ave.\n",
      "2 Turn right onto Waverly Ave.\n",
      "3 Turn left onto Comstock Ave.\n",
      "4 Turn right.\n",
      "5 Turn left onto College Pl.\n",
      "6 Turn right onto Sims Dr.\n",
      "7 SIMS DRIVE.\n",
      "\n"
     ]
    }
   ],
   "source": [
    "try:    \n",
    "    url = 'http://www.mapquestapi.com/directions/v2/route?key=s0V8xnaGzA4sMXWSUKsvA2nWz3kAHaud&from=' + parsed_start +'&to=' + parsed_destination\n",
    "    step_number = 1\n",
    "    narratives = directions['route']['legs'][0]['maneuvers']\n",
    "    count = directions['route']['legs'][0]['maneuvers'][0]['direction']\n",
    "    for count in narratives:\n",
    "        print(step_number, narratives[step_number]['narrative'])\n",
    "        step_number = step_number + 1\n",
    "except IndexError:\n",
    "    print('')"
   ]
  },
  {
   "cell_type": "code",
   "execution_count": null,
   "metadata": {},
   "outputs": [],
   "source": []
  }
 ],
 "metadata": {
  "kernelspec": {
   "display_name": "Python 3",
   "language": "python",
   "name": "python3"
  },
  "language_info": {
   "codemirror_mode": {
    "name": "ipython",
    "version": 3
   },
   "file_extension": ".py",
   "mimetype": "text/x-python",
   "name": "python",
   "nbconvert_exporter": "python",
   "pygments_lexer": "ipython3",
   "version": "3.6.6"
  }
 },
 "nbformat": 4,
 "nbformat_minor": 2
}
