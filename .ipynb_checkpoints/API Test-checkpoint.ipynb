{
 "cells": [
  {
   "cell_type": "code",
   "execution_count": 50,
   "metadata": {},
   "outputs": [
    {
     "name": "stdout",
     "output_type": "stream",
     "text": [
      "\u001b[33mYou are using pip version 18.0, however version 18.1 is available.\r\n",
      "You should consider upgrading via the 'pip install --upgrade pip' command.\u001b[0m\r\n"
     ]
    }
   ],
   "source": [
    "!pip3 install -q requests"
   ]
  },
  {
   "cell_type": "code",
   "execution_count": 51,
   "metadata": {},
   "outputs": [],
   "source": [
    "import requests\n",
    "import json\n",
    "%matplotlib inline \n",
    "import matplotlib\n",
    "import matplotlib.pyplot as plt\n",
    "import plotly\n",
    "import plotly.plotly as py      \n",
    "import cufflinks as cf\n",
    "import pandas as pd\n",
    "import folium\n",
    "import warnings"
   ]
  },
  {
   "cell_type": "code",
   "execution_count": null,
   "metadata": {},
   "outputs": [],
   "source": [
    "class_locations.clear()\n",
    "count = 0\n",
    "while True:\n",
    "    if count == 6:\n",
    "        print(class_locations)\n",
    "        break\n",
    "    class_name = input('What is the name of your class? e.g.(IST 195) ')\n",
    "    if class_name == 'done':\n",
    "        print(class_locations)\n",
    "        break\n",
    "    else:\n",
    "        building = input('What building is your class in? e.g.(Hinds Hall) ')\n",
    "        class_locations[class_name] = building\n",
    "        count = count + 1"
   ]
  },
  {
   "cell_type": "code",
   "execution_count": 150,
   "metadata": {},
   "outputs": [
    {
     "data": {
      "text/plain": [
       "'fv'"
      ]
     },
     "execution_count": 150,
     "metadata": {},
     "output_type": "execute_result"
    }
   ],
   "source": [
    "class_locations['ff']"
   ]
  },
  {
   "cell_type": "code",
   "execution_count": 152,
   "metadata": {},
   "outputs": [
    {
     "name": "stdout",
     "output_type": "stream",
     "text": [
      "What class are you going to? IST 352\n",
      "Carnegie Library, Sims Drive, University Hill, Syracuse, Onondaga County, New York, 13244, USA\n"
     ]
    }
   ],
   "source": [
    "class_selector = input('What class are you going to? ')\n",
    "for item in class_locations:\n",
    "    if class_selector not in class_locations:\n",
    "        print (\"Class not found on schedule\")\n",
    "        class_selector = input('Please choose another: ')\n",
    "    else:\n",
    "        break\n",
    "destinationInput(building)"
   ]
  },
  {
   "cell_type": "code",
   "execution_count": 89,
   "metadata": {},
   "outputs": [],
   "source": [
    "def destinationInput(building):\n",
    "    url = 'https://nominatim.openstreetmap.org/search'\n",
    "    options = { 'q' : building + ' syracuse', 'format' : 'json'}\n",
    "    response = requests.get(url, params = options)            \n",
    "    geodata = response.json()\n",
    "    destination = { geodata[0]['display_name'] }\n",
    "    parsed_destination = ','.join(str(s) for s in destination)\n",
    "    print(parsed_destination)"
   ]
  },
  {
   "cell_type": "code",
   "execution_count": 153,
   "metadata": {},
   "outputs": [
    {
     "name": "stdout",
     "output_type": "stream",
     "text": [
      "What is your current location (e.g) 123 Main St. 201 Lambreth Ln\n"
     ]
    }
   ],
   "source": [
    "url = 'https://nominatim.openstreetmap.org/search'\n",
    "search = input('What is your current location (e.g) 123 Main St. ')\n",
    "options = { 'q' : search + ' syracuse', 'format' : 'json'}\n",
    "response = requests.get(url, params = options)            \n",
    "geodata = response.json()\n",
    "start = { geodata[0]['display_name'] }\n",
    "parsed_start = ','.join(str(s) for s in start)"
   ]
  },
  {
   "cell_type": "code",
   "execution_count": 154,
   "metadata": {},
   "outputs": [
    {
     "name": "stdout",
     "output_type": "stream",
     "text": [
      "It will take you 00:48:06 to travel to your destination.\n",
      "1. Turn left onto Farm Acre Rd. \n",
      "2. Turn right onto Skytop Rd. \n",
      "3. Turn left onto E Colvin St. \n",
      "4. Turn right onto Comstock Ave. \n",
      "5. Turn left onto University Pl (Gate access required). \n",
      "6. Turn left onto Smith Dr. \n",
      "7. SMITH DR. \n",
      "\n"
     ]
    }
   ],
   "source": [
    "try:    \n",
    "    url = 'http://www.mapquestapi.com/directions/v2/route?key=s0V8xnaGzA4sMXWSUKsvA2nWz3kAHaud&from=' + parsed_start +'&to=' + parsed_destination + '&routeType=pedestrian'\n",
    "    response = requests.get(url)\n",
    "    directions = response.json()\n",
    "    step_number = 1\n",
    "    narratives = directions['route']['legs'][0]['maneuvers']\n",
    "    count = directions['route']['legs'][0]['maneuvers'][0]['direction']\n",
    "    time = directions['route']['formattedTime']\n",
    "    print('It will take you %s to travel to your destination.' % (time))\n",
    "    for count in narratives:\n",
    "        print('%i. %s ' % (step_number, narratives[step_number]['narrative']))\n",
    "        step_number = step_number + 1\n",
    "except IndexError:\n",
    "    print('')"
   ]
  },
  {
   "cell_type": "code",
   "execution_count": 156,
   "metadata": {},
   "outputs": [
    {
     "name": "stdout",
     "output_type": "stream",
     "text": [
      "What is the name of your class? e.g.(IST 195) IST 195\n",
      "What building is your class in? e.g.(Hinds Hall) Hinds Hall\n",
      "What is the name of your class? e.g.(IST 195) IST 233\n",
      "What building is your class in? e.g.(Hinds Hall) Hall of Languages\n",
      "What is the name of your class? e.g.(IST 195) IST 121\n",
      "What building is your class in? e.g.(Hinds Hall) Physics Building\n",
      "What is the name of your class? e.g.(IST 195) IST 256\n",
      "What building is your class in? e.g.(Hinds Hall) Dineen Hall\n",
      "What is the name of your class? e.g.(IST 195) done\n",
      "{'IST 195': 'Hinds Hall', 'IST 233': 'Hall of Languages', 'IST 121': 'Physics Building', 'IST 256': 'Dineen Hall'}\n",
      "What class are you going to? IST 256\n",
      "Dinnen Hall, 950, Irving Avenue, University Hill, Syracuse, Onondaga County, New York, 13244, USA\n",
      "What is your current location (e.g) 123 Main St. 137 Comstock Pl\n",
      "It will take you 00:17:29 to travel to your destination.\n",
      "1. Turn left onto Comstock Ave. \n",
      "2. Turn right onto University Pl (Gate access required). \n",
      "3. Turn left onto Smith Dr. \n",
      "4. SMITH DR. \n",
      "\n"
     ]
    },
    {
     "data": {
      "text/html": [
       "<div style=\"width:100%;\"><div style=\"position:relative;width:100%;height:0;padding-bottom:60%;\"><iframe src=\"data:text/html;charset=utf-8;base64,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\" style=\"position:absolute;width:100%;height:100%;left:0;top:0;border:none !important;\" allowfullscreen webkitallowfullscreen mozallowfullscreen></iframe></div></div>"
      ],
      "text/plain": [
       "<folium.folium.Map at 0x10f55ce80>"
      ]
     },
     "execution_count": 156,
     "metadata": {},
     "output_type": "execute_result"
    }
   ],
   "source": [
    "class_locations.clear()\n",
    "count = 0\n",
    "while True:\n",
    "    if count == 6:\n",
    "        print(class_locations)\n",
    "        break\n",
    "    class_name = input('What is the name of your class? e.g.(IST 195) ')\n",
    "    if class_name == 'done':\n",
    "        print(class_locations)\n",
    "        break\n",
    "    else:\n",
    "        building = input('What building is your class in? e.g.(Hinds Hall) ')\n",
    "        class_locations[class_name] = building\n",
    "        count = count + 1\n",
    "class_selector = input('What class are you going to? ')\n",
    "for item in class_locations:\n",
    "    if class_selector not in class_locations:\n",
    "        print (\"Class not found on schedule\")\n",
    "        class_selector = input('Please choose another: ')\n",
    "    else:\n",
    "        break\n",
    "destinationInput(building)\n",
    "url = 'https://nominatim.openstreetmap.org/search'\n",
    "search = input('What is your current location (e.g) 123 Main St. ')\n",
    "options = { 'q' : search + ' syracuse', 'format' : 'json'}\n",
    "response = requests.get(url, params = options)            \n",
    "geodata = response.json()\n",
    "start = { geodata[0]['display_name'] }\n",
    "parsed_start = ','.join(str(s) for s in start)\n",
    "try:    \n",
    "    url = 'http://www.mapquestapi.com/directions/v2/route?key=s0V8xnaGzA4sMXWSUKsvA2nWz3kAHaud&from=' + parsed_start +'&to=' + parsed_destination + '&routeType=pedestrian'\n",
    "    response = requests.get(url)\n",
    "    directions = response.json()\n",
    "    step_number = 1\n",
    "    narratives = directions['route']['legs'][0]['maneuvers']\n",
    "    count = directions['route']['legs'][0]['maneuvers'][0]['direction']\n",
    "    time = directions['route']['formattedTime']\n",
    "    print('It will take you %s to travel to your destination.' % (time))\n",
    "    for count in narratives:\n",
    "        print('%i. %s ' % (step_number, narratives[step_number]['narrative']))\n",
    "        step_number = step_number + 1\n",
    "except IndexError:\n",
    "    print('')\n",
    "Syracuse = (43.0392,-76.1351)\n",
    "map = folium.Map(location=Syracuse, zoom_start=15)\n",
    "start = (directions['route']['legs'][0]['maneuvers'][0]['startPoint']['lat'], directions['route']['legs'][0]['maneuvers'][0]['startPoint']['lng'])\n",
    "end = (directions['route']['locations'][1]['latLng']['lat'], directions['route']['locations'][1]['latLng']['lng'])\n",
    "points = (start, end)\n",
    "marker = folium.Marker(location= start)\n",
    "marker2 = folium.Marker(location= end)\n",
    "map.add_child(marker)\n",
    "map.add_child(marker2)\n",
    "folium.PolyLine(points, color=\"orange\", weight=2.5, opacity=1).add_to(map)\n",
    "map"
   ]
  },
  {
   "cell_type": "code",
   "execution_count": 101,
   "metadata": {},
   "outputs": [],
   "source": []
  },
  {
   "cell_type": "markdown",
   "metadata": {},
   "source": []
  }
 ],
 "metadata": {
  "kernelspec": {
   "display_name": "Python 3",
   "language": "python",
   "name": "python3"
  },
  "language_info": {
   "codemirror_mode": {
    "name": "ipython",
    "version": 3
   },
   "file_extension": ".py",
   "mimetype": "text/x-python",
   "name": "python",
   "nbconvert_exporter": "python",
   "pygments_lexer": "ipython3",
   "version": "3.6.6"
  }
 },
 "nbformat": 4,
 "nbformat_minor": 2
}
