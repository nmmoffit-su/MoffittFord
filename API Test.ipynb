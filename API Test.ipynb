{
 "cells": [
  {
   "cell_type": "code",
   "execution_count": 3,
   "metadata": {},
   "outputs": [
    {
     "name": "stdout",
     "output_type": "stream",
     "text": [
      "\u001b[33mYou are using pip version 18.0, however version 18.1 is available.\r\n",
      "You should consider upgrading via the 'pip install --upgrade pip' command.\u001b[0m\r\n"
     ]
    }
   ],
   "source": [
    "!pip3 install -q requests"
   ]
  },
  {
   "cell_type": "code",
   "execution_count": 4,
   "metadata": {},
   "outputs": [
    {
     "name": "stderr",
     "output_type": "stream",
     "text": [
      "/Library/Frameworks/Python.framework/Versions/3.6/lib/python3.6/site-packages/plotly/graph_objs/_deprecations.py:558: DeprecationWarning:\n",
      "\n",
      "plotly.graph_objs.YAxis is deprecated.\n",
      "Please replace it with one of the following more specific types\n",
      "  - plotly.graph_objs.layout.YAxis\n",
      "  - plotly.graph_objs.layout.scene.YAxis\n",
      "\n",
      "\n",
      "/Library/Frameworks/Python.framework/Versions/3.6/lib/python3.6/site-packages/plotly/graph_objs/_deprecations.py:531: DeprecationWarning:\n",
      "\n",
      "plotly.graph_objs.XAxis is deprecated.\n",
      "Please replace it with one of the following more specific types\n",
      "  - plotly.graph_objs.layout.XAxis\n",
      "  - plotly.graph_objs.layout.scene.XAxis\n",
      "\n",
      "\n"
     ]
    }
   ],
   "source": [
    "import requests\n",
    "import json\n",
    "%matplotlib inline \n",
    "import matplotlib\n",
    "import matplotlib.pyplot as plt\n",
    "import plotly\n",
    "import plotly.plotly as py      \n",
    "import cufflinks as cf\n",
    "import pandas as pd\n",
    "import folium\n",
    "import warnings"
   ]
  },
  {
   "cell_type": "code",
   "execution_count": 53,
   "metadata": {},
   "outputs": [],
   "source": [
    "def testBuilding():\n",
    "    buildingCount = 0\n",
    "    while True:\n",
    "        if buildingCount == 1:\n",
    "            break\n",
    "        else:\n",
    "            try:\n",
    "                url = 'https://nominatim.openstreetmap.org/search'\n",
    "                options = { 'q' : building + ' syracuse', 'format' : 'json'}\n",
    "                response = requests.get(url, params = options)            \n",
    "                geodata = response.json()\n",
    "                destination = { geodata[0]['display_name'] }\n",
    "                parsed_destination = ','.join(str(s) for s in destination)\n",
    "                buildingCount = 1\n",
    "            except IndexError:\n",
    "                print(\"Sorry, we couldn't find that building\")\n",
    "                building= input('What building is your class in? e.g.(Hinds Hall) ')"
   ]
  },
  {
   "cell_type": "code",
   "execution_count": 62,
   "metadata": {},
   "outputs": [],
   "source": [
    "def indexError():\n",
    "    print(\"Sorry, we couldn't find that building\")\n",
    "    building= input('What building is your class in? e.g.(Hinds Hall) ')\n",
    "    url = 'https://nominatim.openstreetmap.org/search'\n",
    "    options = { 'q' : 'Whitman' + ' syracuse', 'format' : 'json'}\n",
    "    response = requests.get(url, params = options)\n",
    "    if response.text == []:\n",
    "        pass\n",
    "    else:\n",
    "        indexError()"
   ]
  },
  {
   "cell_type": "code",
   "execution_count": null,
   "metadata": {},
   "outputs": [
    {
     "name": "stdout",
     "output_type": "stream",
     "text": [
      "What is the name of your class? e.g.(IST 195) ISt 195\n",
      "What building is your class in? e.g.(Hinds Hall) Whitman\n",
      "Sorry, we couldn't find that building\n",
      "What building is your class in? e.g.(Hinds Hall) Whitman\n",
      "Sorry, we couldn't find that building\n",
      "What building is your class in? e.g.(Hinds Hall) Whitman\n",
      "Sorry, we couldn't find that building\n",
      "What building is your class in? e.g.(Hinds Hall) Hinds Hall\n",
      "Sorry, we couldn't find that building\n"
     ]
    }
   ],
   "source": [
    "class_locations = {}\n",
    "count = 0\n",
    "while True:\n",
    "    if count == 6:\n",
    "        print(class_locations)\n",
    "        break\n",
    "    class_name = input('What is the name of your class? e.g.(IST 195) ')\n",
    "    if class_name == 'done':\n",
    "        print(class_locations)\n",
    "        break\n",
    "    else:\n",
    "        try:\n",
    "            building = input('What building is your class in? e.g.(Hinds Hall) ')\n",
    "            url = 'https://nominatim.openstreetmap.org/search'\n",
    "            options = { 'q' : building + ' syracuse', 'format' : 'json'}\n",
    "            response = requests.get(url, params = options)\n",
    "            geodata = response.json()\n",
    "            destination = { geodata[0]['display_name'] }\n",
    "            parsed_destination = ','.join(str(s) for s in destination)\n",
    "        except IndexError:\n",
    "            print(\"Sorry, we couldn't find that building\")\n",
    "            building= input('What building is your class in? e.g.(Hinds Hall) ')\n",
    "            url = 'https://nominatim.openstreetmap.org/search'\n",
    "            options = { 'q' : building + ' syracuse', 'format' : 'json'}\n",
    "            response = requests.get(url, params = options)\n",
    "            indexError()\n",
    "    class_locations[class_name] = building\n",
    "    count = count + 1"
   ]
  },
  {
   "cell_type": "code",
   "execution_count": 48,
   "metadata": {},
   "outputs": [
    {
     "name": "stdout",
     "output_type": "stream",
     "text": [
      "IST 195 Whitman\n",
      "IST 233 HBC\n"
     ]
    }
   ],
   "source": [
    "for class_name,building in class_locations.items():\n",
    "    print(class_name, building)"
   ]
  },
  {
   "cell_type": "code",
   "execution_count": 49,
   "metadata": {},
   "outputs": [
    {
     "name": "stdout",
     "output_type": "stream",
     "text": [
      "What class are you going to? IST 195\n",
      "What class are you going to? IST 233\n"
     ]
    }
   ],
   "source": [
    "class_selector = input('What class are you going to? ')\n",
    "while True:\n",
    "    if class_selector not in class_locations:\n",
    "        print (\"Class not found on schedule\")\n",
    "        class_selector = input('Please choose another: ')\n",
    "    else:\n",
    "        break\n",
    "try:\n",
    "    url = 'https://nominatim.openstreetmap.org/search'\n",
    "    options = { 'q' : building + ' syracuse', 'format' : 'json'}\n",
    "    response = requests.get(url, params = options)            \n",
    "    geodata = response.json()\n",
    "    destination = { geodata[0]['display_name'] }\n",
    "    parsed_destination = ','.join(str(s) for s in destination)\n",
    "    building = class_locations[class_selector]\n",
    "except IndexError:\n",
    "    class_selector = input('What class are you going to? ')"
   ]
  },
  {
   "cell_type": "code",
   "execution_count": 50,
   "metadata": {},
   "outputs": [
    {
     "ename": "IndexError",
     "evalue": "list index out of range",
     "output_type": "error",
     "traceback": [
      "\u001b[0;31m---------------------------------------------------------------------------\u001b[0m",
      "\u001b[0;31mIndexError\u001b[0m                                Traceback (most recent call last)",
      "\u001b[0;32m<ipython-input-50-7543424518c0>\u001b[0m in \u001b[0;36m<module>\u001b[0;34m()\u001b[0m\n\u001b[1;32m      3\u001b[0m \u001b[0mresponse\u001b[0m \u001b[0;34m=\u001b[0m \u001b[0mrequests\u001b[0m\u001b[0;34m.\u001b[0m\u001b[0mget\u001b[0m\u001b[0;34m(\u001b[0m\u001b[0murl\u001b[0m\u001b[0;34m,\u001b[0m \u001b[0mparams\u001b[0m \u001b[0;34m=\u001b[0m \u001b[0moptions\u001b[0m\u001b[0;34m)\u001b[0m\u001b[0;34m\u001b[0m\u001b[0m\n\u001b[1;32m      4\u001b[0m \u001b[0mgeodata\u001b[0m \u001b[0;34m=\u001b[0m \u001b[0mresponse\u001b[0m\u001b[0;34m.\u001b[0m\u001b[0mjson\u001b[0m\u001b[0;34m(\u001b[0m\u001b[0;34m)\u001b[0m\u001b[0;34m\u001b[0m\u001b[0m\n\u001b[0;32m----> 5\u001b[0;31m \u001b[0mdestination\u001b[0m \u001b[0;34m=\u001b[0m \u001b[0;34m{\u001b[0m \u001b[0mgeodata\u001b[0m\u001b[0;34m[\u001b[0m\u001b[0;36m0\u001b[0m\u001b[0;34m]\u001b[0m\u001b[0;34m[\u001b[0m\u001b[0;34m'display_name'\u001b[0m\u001b[0;34m]\u001b[0m \u001b[0;34m}\u001b[0m\u001b[0;34m\u001b[0m\u001b[0m\n\u001b[0m\u001b[1;32m      6\u001b[0m \u001b[0mparsed_destination\u001b[0m \u001b[0;34m=\u001b[0m \u001b[0;34m','\u001b[0m\u001b[0;34m.\u001b[0m\u001b[0mjoin\u001b[0m\u001b[0;34m(\u001b[0m\u001b[0mstr\u001b[0m\u001b[0;34m(\u001b[0m\u001b[0ms\u001b[0m\u001b[0;34m)\u001b[0m \u001b[0;32mfor\u001b[0m \u001b[0ms\u001b[0m \u001b[0;32min\u001b[0m \u001b[0mdestination\u001b[0m\u001b[0;34m)\u001b[0m\u001b[0;34m\u001b[0m\u001b[0m\n\u001b[1;32m      7\u001b[0m \u001b[0mprint\u001b[0m\u001b[0;34m(\u001b[0m\u001b[0mparsed_destination\u001b[0m\u001b[0;34m)\u001b[0m\u001b[0;34m\u001b[0m\u001b[0m\n",
      "\u001b[0;31mIndexError\u001b[0m: list index out of range"
     ]
    }
   ],
   "source": [
    "url = 'https://nominatim.openstreetmap.org/search'\n",
    "options = { 'q' : building + ' syracuse', 'format' : 'json'}\n",
    "response = requests.get(url, params = options)            \n",
    "geodata = response.json()\n",
    "destination = { geodata[0]['display_name'] }\n",
    "parsed_destination = ','.join(str(s) for s in destination)\n",
    "print(parsed_destination)"
   ]
  },
  {
   "cell_type": "code",
   "execution_count": null,
   "metadata": {},
   "outputs": [],
   "source": []
  },
  {
   "cell_type": "code",
   "execution_count": 51,
   "metadata": {},
   "outputs": [
    {
     "name": "stdout",
     "output_type": "stream",
     "text": [
      "What is your current location (e.g) 123 Main St. 137 Comstock Pl\n",
      "137, Comstock Place, Near Eastside, Syracuse, Onondaga County, New York, 13210, USA\n"
     ]
    }
   ],
   "source": [
    "currentCount = 0\n",
    "while True:\n",
    "    if currentCount == 0:\n",
    "        search = input('What is your current location (e.g) 123 Main St. ')\n",
    "        try:\n",
    "            url = 'https://nominatim.openstreetmap.org/search'\n",
    "            options = { 'q' : search + ' syracuse', 'format' : 'json'}\n",
    "            response = requests.get(url, params = options)            \n",
    "            geodata = response.json()\n",
    "            start = { geodata[0]['display_name'] }\n",
    "            parsed_start = ','.join(str(s) for s in start)\n",
    "            print(parsed_start)\n",
    "            currentCount = 1\n",
    "        except IndexError:\n",
    "            print(\"We couldn't find that address. \")\n",
    "    else:\n",
    "        break"
   ]
  },
  {
   "cell_type": "code",
   "execution_count": 52,
   "metadata": {},
   "outputs": [
    {
     "name": "stdout",
     "output_type": "stream",
     "text": [
      "It will take you 00:17:29 to travel to your destination.\n",
      "1. Turn left onto Comstock Ave. \n",
      "2. Turn right onto University Pl (Gate access required). \n",
      "3. Turn left onto Smith Dr. \n",
      "4. SMITH DR. \n",
      "\n"
     ]
    }
   ],
   "source": [
    "try:    \n",
    "    url = 'http://www.mapquestapi.com/directions/v2/route?key=s0V8xnaGzA4sMXWSUKsvA2nWz3kAHaud&from=' + parsed_start +'&to=' + parsed_destination + '&routeType=pedestrian'\n",
    "    response = requests.get(url)\n",
    "    directions = response.json()\n",
    "    step_number = 1\n",
    "    narratives = directions['route']['legs'][0]['maneuvers']\n",
    "    count = directions['route']['legs'][0]['maneuvers'][0]['direction']\n",
    "    time = directions['route']['formattedTime']\n",
    "    print('It will take you %s to travel to your destination.' % (time))\n",
    "    for count in narratives:\n",
    "        print('%i. %s ' % (step_number, narratives[step_number]['narrative']))\n",
    "        step_number = step_number + 1\n",
    "except IndexError:\n",
    "    print('')"
   ]
  },
  {
   "cell_type": "code",
   "execution_count": 53,
   "metadata": {},
   "outputs": [
    {
     "ename": "TypeError",
     "evalue": "__init__() got an unexpected keyword argument 'color'",
     "output_type": "error",
     "traceback": [
      "\u001b[0;31m---------------------------------------------------------------------------\u001b[0m",
      "\u001b[0;31mTypeError\u001b[0m                                 Traceback (most recent call last)",
      "\u001b[0;32m<ipython-input-53-3ff3cc5dffb5>\u001b[0m in \u001b[0;36m<module>\u001b[0;34m()\u001b[0m\n\u001b[1;32m      5\u001b[0m \u001b[0mpoints\u001b[0m \u001b[0;34m=\u001b[0m \u001b[0;34m(\u001b[0m\u001b[0mstart\u001b[0m\u001b[0;34m,\u001b[0m \u001b[0mend\u001b[0m\u001b[0;34m)\u001b[0m\u001b[0;34m\u001b[0m\u001b[0m\n\u001b[1;32m      6\u001b[0m \u001b[0mmarker\u001b[0m \u001b[0;34m=\u001b[0m \u001b[0mfolium\u001b[0m\u001b[0;34m.\u001b[0m\u001b[0mMarker\u001b[0m\u001b[0;34m(\u001b[0m\u001b[0mlocation\u001b[0m\u001b[0;34m=\u001b[0m \u001b[0mstart\u001b[0m\u001b[0;34m)\u001b[0m\u001b[0;34m\u001b[0m\u001b[0m\n\u001b[0;32m----> 7\u001b[0;31m \u001b[0mmarker2\u001b[0m \u001b[0;34m=\u001b[0m \u001b[0mfolium\u001b[0m\u001b[0;34m.\u001b[0m\u001b[0mMarker\u001b[0m\u001b[0;34m(\u001b[0m\u001b[0mlocation\u001b[0m\u001b[0;34m=\u001b[0m \u001b[0mend\u001b[0m\u001b[0;34m,\u001b[0m\u001b[0mcolor\u001b[0m\u001b[0;34m=\u001b[0m\u001b[0;34m\"red\"\u001b[0m\u001b[0;34m)\u001b[0m\u001b[0;34m\u001b[0m\u001b[0m\n\u001b[0m\u001b[1;32m      8\u001b[0m \u001b[0mmap\u001b[0m\u001b[0;34m.\u001b[0m\u001b[0madd_child\u001b[0m\u001b[0;34m(\u001b[0m\u001b[0mmarker\u001b[0m\u001b[0;34m)\u001b[0m\u001b[0;34m\u001b[0m\u001b[0m\n\u001b[1;32m      9\u001b[0m \u001b[0mmap\u001b[0m\u001b[0;34m.\u001b[0m\u001b[0madd_child\u001b[0m\u001b[0;34m(\u001b[0m\u001b[0mmarker2\u001b[0m\u001b[0;34m)\u001b[0m\u001b[0;34m\u001b[0m\u001b[0m\n",
      "\u001b[0;31mTypeError\u001b[0m: __init__() got an unexpected keyword argument 'color'"
     ]
    }
   ],
   "source": [
    "Syracuse = (43.0392,-76.1351)\n",
    "map = folium.Map(location=Syracuse, zoom_start=15)\n",
    "start = (directions['route']['legs'][0]['maneuvers'][0]['startPoint']['lat'], directions['route']['legs'][0]['maneuvers'][0]['startPoint']['lng'])\n",
    "end = (directions['route']['locations'][1]['latLng']['lat'], directions['route']['locations'][1]['latLng']['lng'])\n",
    "points = (start, end)\n",
    "marker = folium.Marker(location= start)\n",
    "marker2 = folium.Marker(location= end,color=\"red\")\n",
    "map.add_child(marker)\n",
    "map.add_child(marker2)\n",
    "folium.PolyLine(points, color=\"orange\", weight=2.5, opacity=1).add_to(map)\n",
    "map"
   ]
  },
  {
   "cell_type": "code",
   "execution_count": null,
   "metadata": {
    "scrolled": true
   },
   "outputs": [],
   "source": []
  },
  {
   "cell_type": "code",
   "execution_count": null,
   "metadata": {},
   "outputs": [],
   "source": []
  }
 ],
 "metadata": {
  "kernelspec": {
   "display_name": "Python 3",
   "language": "python",
   "name": "python3"
  },
  "language_info": {
   "codemirror_mode": {
    "name": "ipython",
    "version": 3
   },
   "file_extension": ".py",
   "mimetype": "text/x-python",
   "name": "python",
   "nbconvert_exporter": "python",
   "pygments_lexer": "ipython3",
   "version": "3.6.6"
  }
 },
 "nbformat": 4,
 "nbformat_minor": 2
}
