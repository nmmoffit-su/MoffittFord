{
 "cells": [
  {
   "cell_type": "code",
   "execution_count": 3,
   "metadata": {},
   "outputs": [
    {
     "name": "stdout",
     "output_type": "stream",
     "text": [
      "\u001b[33mYou are using pip version 18.0, however version 18.1 is available.\r\n",
      "You should consider upgrading via the 'pip install --upgrade pip' command.\u001b[0m\r\n"
     ]
    }
   ],
   "source": [
    "!pip3 install -q requests"
   ]
  },
  {
   "cell_type": "code",
   "execution_count": 4,
   "metadata": {},
   "outputs": [
    {
     "name": "stderr",
     "output_type": "stream",
     "text": [
      "/Library/Frameworks/Python.framework/Versions/3.6/lib/python3.6/site-packages/plotly/graph_objs/_deprecations.py:558: DeprecationWarning:\n",
      "\n",
      "plotly.graph_objs.YAxis is deprecated.\n",
      "Please replace it with one of the following more specific types\n",
      "  - plotly.graph_objs.layout.YAxis\n",
      "  - plotly.graph_objs.layout.scene.YAxis\n",
      "\n",
      "\n",
      "/Library/Frameworks/Python.framework/Versions/3.6/lib/python3.6/site-packages/plotly/graph_objs/_deprecations.py:531: DeprecationWarning:\n",
      "\n",
      "plotly.graph_objs.XAxis is deprecated.\n",
      "Please replace it with one of the following more specific types\n",
      "  - plotly.graph_objs.layout.XAxis\n",
      "  - plotly.graph_objs.layout.scene.XAxis\n",
      "\n",
      "\n"
     ]
    }
   ],
   "source": [
    "import requests\n",
    "import json\n",
    "%matplotlib inline \n",
    "import matplotlib\n",
    "import matplotlib.pyplot as plt\n",
    "import plotly\n",
    "import plotly.plotly as py      \n",
    "import cufflinks as cf\n",
    "import pandas as pd\n",
    "import folium\n",
    "import warnings"
   ]
  },
  {
   "cell_type": "code",
   "execution_count": 5,
   "metadata": {},
   "outputs": [],
   "source": [
    "def testBuilding():\n",
    "    buildingCount = 0\n",
    "    while True:\n",
    "        if buildingCount == 1:\n",
    "            break\n",
    "        else:\n",
    "            try:\n",
    "                url = 'https://nominatim.openstreetmap.org/search'\n",
    "                options = { 'q' : building + ' syracuse', 'format' : 'json'}\n",
    "                response = requests.get(url, params = options)            \n",
    "                geodata = response.json()\n",
    "                destination = { geodata[0]['display_name'] }\n",
    "                parsed_destination = ','.join(str(s) for s in destination)\n",
    "                buildingCount = 1\n",
    "            except IndexError:\n",
    "                print(\"Sorry, we couldn't find that building\")\n",
    "                building= input('What building is your class in? e.g.(Hinds Hall) ')"
   ]
  },
  {
   "cell_type": "code",
   "execution_count": null,
   "metadata": {},
   "outputs": [],
   "source": [
    "def indexError():\n",
    "    print(\"Sorry, we couldn't find that building\")\n",
    "    building= input('What building is your class in? e.g.(Hinds Hall) ')\n",
    "    url = 'https://nominatim.openstreetmap.org/search'\n",
    "    options = { 'q' : 'Whitman' + ' syracuse', 'format' : 'json'}\n",
    "    response = requests.get(url, params = options)"
   ]
  },
  {
   "cell_type": "code",
   "execution_count": null,
   "metadata": {},
   "outputs": [
    {
     "name": "stdout",
     "output_type": "stream",
     "text": [
      "What is the name of your class? e.g.(IST 195) IST 194\n",
      "What building is your class in? e.g.(Hinds Hall) Whitman\n",
      "Sorry, we couldn't find that building\n",
      "What building is your class in? e.g.(Hinds Hall) WHitman\n",
      "Sorry, we couldn't find that building\n",
      "What building is your class in? e.g.(Hinds Hall) WHitman\n",
      "What is the name of your class? e.g.(IST 195) IST 122\n",
      "What building is your class in? e.g.(Hinds Hall) Whitman\n",
      "Sorry, we couldn't find that building\n",
      "What building is your class in? e.g.(Hinds Hall) Whitman\n",
      "Sorry, we couldn't find that building\n",
      "What building is your class in? e.g.(Hinds Hall) Hinds hall\n"
     ]
    }
   ],
   "source": [
    "class_locations = {}\n",
    "count = 0\n",
    "while True:\n",
    "    if count == 6:\n",
    "        print(class_locations)\n",
    "        break\n",
    "    class_name = input('What is the name of your class? e.g.(IST 195) ')\n",
    "    if class_name == 'done':\n",
    "        print(class_locations)\n",
    "        break\n",
    "    else:\n",
    "        try:\n",
    "            building = input('What building is your class in? e.g.(Hinds Hall) ')\n",
    "            url = 'https://nominatim.openstreetmap.org/search'\n",
    "            options = { 'q' : building + ' syracuse', 'format' : 'json'}\n",
    "            response = requests.get(url, params = options)\n",
    "            geodata = response.json()\n",
    "            destination = { geodata[0]['display_name'] }\n",
    "            parsed_destination = ','.join(str(s) for s in destination)\n",
    "        except IndexError:\n",
    "            print(\"Sorry, we couldn't find that building\")\n",
    "            building= input('What building is your class in? e.g.(Hinds Hall) ')\n",
    "            url = 'https://nominatim.openstreetmap.org/search'\n",
    "            options = { 'q' : building + ' syracuse', 'format' : 'json'}\n",
    "            response = requests.get(url, params = options)\n",
    "            indexError()\n",
    "    class_locations[class_name] = building\n",
    "    count = count + 1"
   ]
  },
  {
   "cell_type": "code",
   "execution_count": 11,
   "metadata": {},
   "outputs": [
    {
     "name": "stdout",
     "output_type": "stream",
     "text": [
      "IST 195 Whitman School of Management\n",
      "IST 233 Hall of Languages\n",
      "MAT 121 Bird Library\n",
      "MAX 121 Maxwell Hall\n"
     ]
    }
   ],
   "source": [
    "for class_name,building in class_locations.items():\n",
    "    print(class_name, building)"
   ]
  },
  {
   "cell_type": "code",
   "execution_count": 12,
   "metadata": {},
   "outputs": [
    {
     "name": "stdout",
     "output_type": "stream",
     "text": [
      "What class are you going to? MAX 121\n"
     ]
    }
   ],
   "source": [
    "class_selector = input('What class are you going to? ')\n",
    "while True:\n",
    "    if class_selector not in class_locations:\n",
    "        print (\"Class not found on schedule\")\n",
    "        class_selector = input('Please choose another: ')\n",
    "    else:\n",
    "        break\n",
    "try:\n",
    "    url = 'https://nominatim.openstreetmap.org/search'\n",
    "    options = { 'q' : building + ' syracuse', 'format' : 'json'}\n",
    "    response = requests.get(url, params = options)            \n",
    "    geodata = response.json()\n",
    "    destination = { geodata[0]['display_name'] }\n",
    "    parsed_destination = ','.join(str(s) for s in destination)\n",
    "    building = class_locations[class_selector]\n",
    "except IndexError:\n",
    "    class_selector = input('What class are you going to? ')"
   ]
  },
  {
   "cell_type": "code",
   "execution_count": 13,
   "metadata": {},
   "outputs": [
    {
     "name": "stdout",
     "output_type": "stream",
     "text": [
      "Maxwell Hall, Crouse Drive, University Hill, Syracuse, Onondaga County, New York, 13244, USA\n"
     ]
    }
   ],
   "source": [
    "url = 'https://nominatim.openstreetmap.org/search'\n",
    "options = { 'q' : building + ' syracuse', 'format' : 'json'}\n",
    "response = requests.get(url, params = options)            \n",
    "geodata = response.json()\n",
    "destination = { geodata[0]['display_name'] }\n",
    "parsed_destination = ','.join(str(s) for s in destination)\n",
    "print(parsed_destination)"
   ]
  },
  {
   "cell_type": "code",
   "execution_count": null,
   "metadata": {},
   "outputs": [],
   "source": []
  },
  {
   "cell_type": "code",
   "execution_count": 14,
   "metadata": {},
   "outputs": [
    {
     "name": "stdout",
     "output_type": "stream",
     "text": [
      "What is your current location (e.g) 123 Main St. 401 Van Buren St\n",
      "401, Van Buren Street, University Hill, Syracuse, Onondaga County, New York, 13210, USA\n"
     ]
    }
   ],
   "source": [
    "currentCount = 0\n",
    "while True:\n",
    "    if currentCount == 0:\n",
    "        search = input('What is your current location (e.g) 123 Main St. ')\n",
    "        try:\n",
    "            url = 'https://nominatim.openstreetmap.org/search'\n",
    "            options = { 'q' : search + ' syracuse', 'format' : 'json'}\n",
    "            response = requests.get(url, params = options)            \n",
    "            geodata = response.json()\n",
    "            start = { geodata[0]['display_name'] }\n",
    "            parsed_start = ','.join(str(s) for s in start)\n",
    "            print(parsed_start)\n",
    "            currentCount = 1\n",
    "        except IndexError:\n",
    "            print(\"We couldn't find that address. \")\n",
    "    else:\n",
    "        break"
   ]
  },
  {
   "cell_type": "code",
   "execution_count": 15,
   "metadata": {},
   "outputs": [
    {
     "name": "stdout",
     "output_type": "stream",
     "text": [
      "It will take you 00:11:58 to travel to your destination.\n",
      "1. Turn left onto Irving Ave. \n",
      "2. Turn right onto University Pl. \n",
      "3. Turn right onto Crouse Dr. \n",
      "4. [100 - 199] CROUSE DR, MAXWELL HALL. \n",
      "\n"
     ]
    }
   ],
   "source": [
    "try:    \n",
    "    url = 'http://www.mapquestapi.com/directions/v2/route?key=s0V8xnaGzA4sMXWSUKsvA2nWz3kAHaud&from=' + parsed_start +'&to=' + parsed_destination + '&routeType=pedestrian'\n",
    "    response = requests.get(url)\n",
    "    directions = response.json()\n",
    "    step_number = 1\n",
    "    narratives = directions['route']['legs'][0]['maneuvers']\n",
    "    count = directions['route']['legs'][0]['maneuvers'][0]['direction']\n",
    "    time = directions['route']['formattedTime']\n",
    "    print('It will take you %s to travel to your destination.' % (time))\n",
    "    for count in narratives:\n",
    "        print('%i. %s ' % (step_number, narratives[step_number]['narrative']))\n",
    "        step_number = step_number + 1\n",
    "except IndexError:\n",
    "    print('')"
   ]
  },
  {
   "cell_type": "code",
   "execution_count": 17,
   "metadata": {},
   "outputs": [
    {
     "data": {
      "text/html": [
       "<div style=\"width:100%;\"><div style=\"position:relative;width:100%;height:0;padding-bottom:60%;\"><iframe src=\"data:text/html;charset=utf-8;base64,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\" style=\"position:absolute;width:100%;height:100%;left:0;top:0;border:none !important;\" allowfullscreen webkitallowfullscreen mozallowfullscreen></iframe></div></div>"
      ],
      "text/plain": [
       "<folium.folium.Map at 0x1145b2780>"
      ]
     },
     "execution_count": 17,
     "metadata": {},
     "output_type": "execute_result"
    }
   ],
   "source": [
    "Syracuse = (43.0392,-76.1351)\n",
    "map = folium.Map(location=Syracuse, zoom_start=15)\n",
    "start = (directions['route']['legs'][0]['maneuvers'][0]['startPoint']['lat'], directions['route']['legs'][0]['maneuvers'][0]['startPoint']['lng'])\n",
    "end = (directions['route']['locations'][1]['latLng']['lat'], directions['route']['locations'][1]['latLng']['lng'])\n",
    "points = (start, end)\n",
    "marker = folium.Marker(location= start)\n",
    "marker2 = folium.Marker(location= end)\n",
    "map.add_child(marker)\n",
    "map.add_child(marker2)\n",
    "folium.PolyLine(points, color=\"orange\", weight=2.5, opacity=1).add_to(map)\n",
    "map"
   ]
  },
  {
   "cell_type": "code",
   "execution_count": null,
   "metadata": {
    "scrolled": true
   },
   "outputs": [],
   "source": []
  },
  {
   "cell_type": "code",
   "execution_count": null,
   "metadata": {},
   "outputs": [],
   "source": []
  }
 ],
 "metadata": {
  "kernelspec": {
   "display_name": "Python 3",
   "language": "python",
   "name": "python3"
  },
  "language_info": {
   "codemirror_mode": {
    "name": "ipython",
    "version": 3
   },
   "file_extension": ".py",
   "mimetype": "text/x-python",
   "name": "python",
   "nbconvert_exporter": "python",
   "pygments_lexer": "ipython3",
   "version": "3.6.6"
  }
 },
 "nbformat": 4,
 "nbformat_minor": 2
}
